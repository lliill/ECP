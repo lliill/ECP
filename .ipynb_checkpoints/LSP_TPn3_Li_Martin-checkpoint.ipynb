{
 "cells": [
  {
   "cell_type": "markdown",
   "metadata": {},
   "source": [
    "# TP3 Reconstruction of DOSY NMR signals - Part II\n",
    "\n",
    "## Maximum entropy regularization"
   ]
  },
  {
   "cell_type": "markdown",
   "metadata": {},
   "source": [
    "### 1. Is ent convex ? proper ? lower-semicontinuous ? differentiable ?\n"
   ]
  },
  {
   "cell_type": "markdown",
   "metadata": {},
   "source": [
    "The epigraph of $\\phi$ is closed so $\\phi$ is l.s.c..."
   ]
  },
  {
   "cell_type": "markdown",
   "metadata": {},
   "source": [
    "### 2. Has the optimization problem a solution ? Is it unique ?\n"
   ]
  },
  {
   "cell_type": "markdown",
   "metadata": {},
   "source": [
    "strictly convex"
   ]
  },
  {
   "cell_type": "markdown",
   "metadata": {},
   "source": [
    "### 3. Give the expression of the proximity operator of ent at some x ∈ R\n",
    "N .\n",
    "(Hint : Use the Lambert W-function)."
   ]
  },
  {
   "cell_type": "markdown",
   "metadata": {},
   "source": [
    "$$\\text{prox}_{\\gamma \\phi}(u) = \\gamma W \\left( e^{\\frac{u}{\\gamma} -1 - \\ln(\\gamma)} \\right)$$"
   ]
  },
  {
   "cell_type": "markdown",
   "metadata": {},
   "source": [
    "### 4. Propose a forward-backward and a Douglas-Rachford algorithm to solve problem"
   ]
  },
  {
   "cell_type": "markdown",
   "metadata": {},
   "source": [
    "$$f(x) = \\frac{1}{2} \\left\\lVert Kx - y \\right\\rVert ^2 $$\n",
    "$$g(x) = \\beta \\,\\text{ent}(x)$$"
   ]
  },
  {
   "cell_type": "markdown",
   "metadata": {},
   "source": [
    "...write algo"
   ]
  },
  {
   "cell_type": "code",
   "execution_count": 9,
   "metadata": {},
   "outputs": [],
   "source": [
    "import numpy as np\n",
    "import matplotlib.pyplot as plt\n",
    "from numpy import exp#, log\n",
    "from math import log\n",
    "from scipy import linalg\n",
    "from scipy.special import lambertw\n",
    "from tqdm import tqdm\n",
    "\n",
    "T_MIN = 1\n",
    "T_MAX = 1000\n",
    "N = 200\n",
    "M = 50\n",
    "t_MIN = 0\n",
    "t_MAX = 1.5\n",
    "\n",
    "original_signal = np.loadtxt('x.txt')\n",
    "\n",
    "def T_sampling(n):\n",
    "    return T_MIN * exp(-(n-1)*(log(T_MIN/T_MAX)/(N-1)))\n",
    "\n",
    "T = T_sampling(np.arange(1, N+1))\n",
    "\n",
    "def t_sampling(m):\n",
    "    return t_MIN + (m-1)/(M-1) * (t_MAX - t_MIN)\n",
    "t = t_sampling(np.arange(1, M+1))\n",
    "\n",
    "K = exp(-np.tensordot(t, T, axes = 0))\n",
    "\n",
    "z = K @ original_signal\n",
    "sigma = 0.01 * z[0]\n",
    "I_M = np.identity(M)\n",
    "cov = sigma**2 * I_M\n",
    "mean = np.zeros(M)\n",
    "\n",
    "w = np.random.multivariate_normal(mean, cov)\n",
    "y = z + w\n",
    "\n",
    "K_SQUARE = K.T @ K\n",
    "KY = K.T @ y\n",
    "\n",
    "def relative_change(x, x_new):\n",
    "    return linalg.norm(x_new-x) / linalg.norm(x)"
   ]
  },
  {
   "cell_type": "markdown",
   "metadata": {},
   "source": [
    "#### Douglas-Rachford algorithm"
   ]
  },
  {
   "cell_type": "markdown",
   "metadata": {},
   "source": [
    "$$\\text{prox}_{\\gamma f} (x) = \\left(\\gamma K^T K + Id \\right)^{-1} \\left( x + \\gamma K^T y \\right)$$\n",
    "$$\\text{prox}_{\\gamma g}(x) =\\text{prox}_{\\gamma \\beta \\, \\text{ent}} (x) = \\text{prox}_{\\sum \\gamma \\beta \\, \\phi} (x) =  \\left( \\text{prox}_{\\gamma \\beta \\, \\phi} (x_i) \\right)_i = \\left( \\gamma \\beta \\, W \\left( e^{\\frac{x_i}{\\gamma\\beta} -1 - \\ln(\\gamma\\beta)} \\right) \\right)_i$$"
   ]
  },
  {
   "cell_type": "markdown",
   "metadata": {},
   "source": [
    "### 5. Implement them both and evaluate their performances for β = 10−2"
   ]
  },
  {
   "cell_type": "code",
   "execution_count": 10,
   "metadata": {},
   "outputs": [],
   "source": [
    "ID = np.identity(N)\n",
    "\n",
    "def prox_f(gamma, x):\n",
    "    argmin = linalg.solve(gamma*K_SQUARE + ID, x+gamma*KY)\n",
    "    return argmin\n",
    "\n",
    "def prox_g(gamma, x): # gamma = gamma*beta!\n",
    "    return gamma * np.real(lambertw(exp(x/gamma -1 - log(gamma))))\n",
    "\n",
    "def Douglas_Rachford(x_0, gamma, beta, lamb = 1/2, STOP = 1e-6, MAX_ITER = int(1e6)):\n",
    "    \n",
    "    x = x_0\n",
    "#     breakpoint()\n",
    "    for _ in tqdm(range(MAX_ITER)):\n",
    "        y = prox_g(gamma*beta, x)\n",
    "        z = prox_f(gamma, 2*y-x)\n",
    "        x_next = x + lamb * (z - y)\n",
    "        change_rate = relative_change(x, x_next)\n",
    "        x = x_next\n",
    "        if change_rate < STOP:\n",
    "            return x\n",
    "    return x\n",
    "            "
   ]
  },
  {
   "cell_type": "code",
   "execution_count": 11,
   "metadata": {},
   "outputs": [
    {
     "name": "stderr",
     "output_type": "stream",
     "text": [
      "  0%|                                                                            | 77/1000000 [00:00<40:07, 415.33it/s]\n"
     ]
    }
   ],
   "source": [
    "beta = 1e-2\n",
    "x_0 = original_signal#np.ones(N)*(x_max+x_min)/2\n",
    "restored_signal = Douglas_Rachford(x_0, 1, beta)"
   ]
  },
  {
   "cell_type": "code",
   "execution_count": 12,
   "metadata": {},
   "outputs": [
    {
     "data": {
      "image/png": "[encoded data removed]",
      "text/plain": [
       "<Figure size 1728x432 with 1 Axes>"
      ]
     },
     "metadata": {
      "needs_background": "light"
     },
     "output_type": "display_data"
    }
   ],
   "source": [
    "plt.rcParams['figure.figsize'] = [24, 6]\n",
    "\n",
    "plt.figure()\n",
    "plt.subplot(1, 3, 1)\n",
    "plt.plot(T, restored_signal, 'b-', label='restored signal')\n",
    "plt.plot(T, original_signal, 'r-', label='original signal')\n",
    "plt.title('restored signal with smoothness prior + constraints, \\u03B2={}'.format(beta))\n",
    "plt.legend()\n",
    "plt.xscale('log')\n",
    "plt.xlabel('T')\n",
    "plt.ylabel('X(T)');"
   ]
  },
  {
   "cell_type": "markdown",
   "metadata": {},
   "source": [
    "### 8."
   ]
  },
  {
   "cell_type": "markdown",
   "metadata": {},
   "source": [
    "PPXA+    "
   ]
  },
  {
   "cell_type": "code",
   "execution_count": null,
   "metadata": {},
   "outputs": [],
   "source": []
  }
 ],
 "metadata": {
  "kernelspec": {
   "display_name": "Python 3",
   "language": "python",
   "name": "python3"
  },
  "language_info": {
   "codemirror_mode": {
    "name": "ipython",
    "version": 3
   },
   "file_extension": ".py",
   "mimetype": "text/x-python",
   "name": "python",
   "nbconvert_exporter": "python",
   "pygments_lexer": "ipython3",
   "version": "3.7.5"
  }
 },
 "nbformat": 4,
 "nbformat_minor": 4
}
