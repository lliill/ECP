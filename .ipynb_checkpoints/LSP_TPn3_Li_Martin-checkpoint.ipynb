{
 "cells": [
  {
   "cell_type": "markdown",
   "metadata": {},
   "source": [
    "# TP3 Reconstruction of DOSY NMR signals - Part II\n",
    "\n",
    "## Maximum entropy regularization"
   ]
  },
  {
   "cell_type": "markdown",
   "metadata": {},
   "source": [
    "### 1. Is ent convex ? proper ? lower-semicontinuous ? differentiable ?\n"
   ]
  },
  {
   "cell_type": "markdown",
   "metadata": {},
   "source": [
    "* **Lower-semicontinuous**\n",
    "\n",
    "$\\varphi$ is continuous on $\\mathbb{R}^+$ and for all sequence $(u_n)$ such that $u_n \\underset{n \\rightarrow +\\infty}\\rightarrow 0$, $~\\underset{n \\rightarrow +\\infty}{\\text{lim inf}}f(u_n)= + \\infty \\geq 0 = f(0)$. Thus $\\varphi$ is l.s.c. and finally $ent$ is l.s.c. as a sum of l.s.c. functions.\n",
    "\n",
    "* **Proper**\n",
    "\n",
    "$ent$ is proper since $ent(0) = 0< +\\infty$ and $ent(x) \\neq - \\infty$ $\\forall x\\in \\mathbb{R}$.\n",
    "\n",
    "* **Differentiable**\n",
    "\n",
    "$\\varphi$ is clearly differentiable on $\\mathbb{R}^+_*$ and so $ent$ is differentiable on $(\\mathbb{R}^+_*)^n$. However $\\varphi$ is not differentiable in 0 since $\\varphi'(u) = \\log(u) +1 \\underset{u \\rightarrow 0}{\\longrightarrow} -\\infty$. Hence we can not make the differentiation domain of $ent$ larger than $(\\mathbb{R}^+_*)^n$.\n",
    "\n",
    "* **Convex**\n",
    "\n",
    "For all $u\\in \\mathbb{R}^+_*$, $\\varphi''(u) = \\frac{1}{u} >0$ so $\\varphi$ is (strictly) convex on $\\mathbb{R}^+$. Thus $ent$ is (strictly) convex on $(\\mathbb{R}^+)^n$ as a sum of convex functions."
   ]
  },
  {
   "cell_type": "markdown",
   "metadata": {},
   "source": [
    "### 2. Has the optimization problem a solution ? Is it unique ?\n"
   ]
  },
  {
   "cell_type": "markdown",
   "metadata": {},
   "source": [
    "Let $h(x) =  \\frac{1}{2} \\Vert Kx -y\\Vert^2 + \\beta~ ent(x)$.\n",
    "* **Existence.**\n",
    "$h$ is l.s.c, proper and coercive so $h$ admits a minimum and this minimum lies in $(\\mathbb{R}^+)^n$.\n",
    "\n",
    "* **Uniqueness.**\n",
    "$ent$ is strictly convex on $(\\mathbb{R}^+)^n$ and $x \\mapsto  \\Vert Kx -y\\Vert^2$ is convex so $h$ is stricly convex on $(\\mathbb{R}^+)^n$. Therefore, the minimum on $(\\mathbb{R}^+)^n$ is unique.\n",
    "\n"
   ]
  },
  {
   "cell_type": "markdown",
   "metadata": {},
   "source": [
    "### 3. Give the expression of the proximity operator of ent at some x ∈ R"
   ]
  },
  {
   "cell_type": "markdown",
   "metadata": {},
   "source": [
    "Let us first compute the proximity operator of $\\gamma\\varphi$, for $\\gamma >0$. \n",
    "\n",
    "\\begin{align*}\n",
    "\\text{prox}_{\\varphi}(u) &= \\underset{y\\in \\mathbb{R}}{\\text{argmin}}~ \\gamma \\varphi(y) + \\frac{1}{2}\\Vert u-y \\Vert^2 \\\\\n",
    "&= \\underset{y\\in \\mathbb{R}^+}{\\text{argmin}}~ \\gamma y \\log(y) + \\frac{1}{2}\\Vert u-y \\Vert^2 \n",
    "\\end{align*}\n",
    "\n",
    "$g_u : y \\mapsto \\gamma y \\log(y) + \\frac{1}{2}\\Vert u-y \\Vert^2 = \\gamma y \\log(\\gamma y) - \\gamma y \\log(\\gamma) + \\frac{1}{2}\\Vert u-y \\Vert^2$ is strictly convex and can be minimized by setting its derivative to zero :\n",
    "\\begin{align*}g_u'(y) =0 &\\iff \\gamma +\\gamma \\log(\\gamma y) - \\gamma \\log(\\gamma)+ y = u \\\\ &\\iff  \\log(\\gamma y) + y/\\gamma = -1 + \\log(\\gamma)+ u/\\gamma \\\\ & \\iff \\gamma y e^{y/\\gamma} = e^{-1 + \\log(\\gamma)+ u/\\gamma}\n",
    "\\\\ & \\iff y = \\gamma W \\left( e^{-1 - \\log(\\gamma)+ u/\\gamma}\\right) \\end{align*}\n",
    "\n",
    "where $W$ is the Lambert function. Finally $\\text{prox}_{\\gamma\\varphi}(u)  =  \\gamma W \\left( e^{-1 - \\log(\\gamma)+ u/\\gamma}\\right)$. \n",
    "\n",
    "Let us finally compute the proximity operator of $\\gamma~ \\text{ent}$. We have $\\text{ent} = \\sum_{n=1}^N \\varphi_n$ where forall $n \\in [1, N]$, $\\varphi_n(x) = \\varphi(x_n) \\in \\Gamma_0$. Hence $$\\boxed{\\text{prox}_{\\text{ent}}(x) = \\left(\\gamma W \\left( e^{-1 - \\log(\\gamma)+ x_n/\\gamma}\\right)\\right)_{n\\in [1, N]}}$$"
   ]
  },
  {
   "cell_type": "markdown",
   "metadata": {},
   "source": [
    "### 4. Propose a forward-backward and a Douglas-Rachford algorithm to solve problem"
   ]
  },
  {
   "cell_type": "markdown",
   "metadata": {},
   "source": [
    "Let $f: x \\mapsto \\beta \\,\\text{ent}(x)\\in \\Gamma_0(\\mathbb{R}^N)$ and $g: x \\mapsto \\frac{1}{2}\\left\\lVert Kx - y \\right\\rVert ^2 \\in \\Gamma_0(\\mathbb{R}^N)$."
   ]
  },
  {
   "cell_type": "markdown",
   "metadata": {},
   "source": [
    "#### Foward-backward algorithm"
   ]
  },
  {
   "cell_type": "markdown",
   "metadata": {},
   "source": [
    "The Foward-backward algorithm is adapted to our problem since $f, g \\in \\Gamma_0$, $g$ is differentiable on $\\mathbb{R}^N$ and we know the proximity operator of $\\gamma f$:$$\\text{prox}_{\\gamma f}(x) = \\left(\\beta\\gamma W \\left( e^{-1 - \\log(\\beta\\gamma)+ \\frac{x_n}{(\\beta\\gamma)}}\\right)\\right)_{n\\in [1, N]}$$\n",
    "Let's set the parameters : \n",
    "\n",
    "* $\\nu$: Lipschitz constant of $\\nabla g$.\n",
    "We have $\\nabla g(x) = K^T(Kx-y)$, so the best $\\nu$ that can be chosen is $\\nu =\\Vert K^T K \\Vert_2 = \\rho (K^T K)$ where $\\rho$ is the spectral radius. It can be computed with the package `linalg`.\n",
    "\n",
    "* $\\gamma \\in [0, 2/\\nu]$ and $\\delta = 2 - \\gamma \\nu /2 \\in ]1, 2[$.\n",
    "* $\\lambda_n$ a sequence in $[0, \\delta]$. For simplicity we choose $\\lambda_n = 0.98\\times\\delta$ for all $n$.\n",
    "\n",
    "According to question 2, the condition $\\text{Argmin }~(f+g) \\neq \\emptyset$ is verified. \n"
   ]
  },
  {
   "cell_type": "markdown",
   "metadata": {},
   "source": [
    "#### Douglas-Rachford algorithm"
   ]
  },
  {
   "cell_type": "markdown",
   "metadata": {},
   "source": [
    "The Douglas-Rachford algorithm is also an adapted solution to our problem since we can compute both $f$ and $g$ proximity operators. Under the asumption that $\\gamma K^T K + Id$ is invertible (which stands for $\\gamma$ small enough), we have :\n",
    "$$\\text{prox}_{\\gamma g} (x) = \\left(\\gamma K^T K + Id \\right)^{-1} \\left( x + \\gamma K^T y \\right)$$\n",
    "$$\\text{prox}_{\\gamma f}(x) = \\left(\\beta\\gamma W \\left( e^{-1 - \\log(\\beta\\gamma)+ \\frac{x_n}{(\\beta\\gamma)}}\\right)\\right)_{n\\in [1, N]}$$\n",
    "\n",
    "We set $\\lambda_n  =1/2 $ for all $n \\in \\mathbb{N}$ and $\\gamma =1$.\n",
    "\n"
   ]
  },
  {
   "cell_type": "markdown",
   "metadata": {},
   "source": [
    "### 5. Implement them both and evaluate their performances for β = 10−2"
   ]
  },
  {
   "cell_type": "markdown",
   "metadata": {},
   "source": [
    "We first load the data and define the functions $\\nabla g$, $\\text{prox}_{\\gamma f}$, $\\text{prox}_{\\gamma g}$."
   ]
  },
  {
   "cell_type": "code",
   "execution_count": 1,
   "metadata": {},
   "outputs": [],
   "source": [
    "import numpy as np\n",
    "import matplotlib.pyplot as plt\n",
    "from numpy import exp#, log\n",
    "from math import log\n",
    "from scipy import linalg\n",
    "from scipy.special import lambertw\n",
    "from tqdm import tqdm\n",
    "\n",
    "T_MIN = 1\n",
    "T_MAX = 1000\n",
    "N = 200\n",
    "M = 50\n",
    "t_MIN = 0\n",
    "t_MAX = 1.5\n",
    "\n",
    "original_signal = np.loadtxt('x.txt')\n",
    "\n",
    "def T_sampling(n):\n",
    "    return T_MIN * exp(-(n-1)*(log(T_MIN/T_MAX)/(N-1)))\n",
    "\n",
    "T = T_sampling(np.arange(1, N+1))\n",
    "\n",
    "def t_sampling(m):\n",
    "    return t_MIN + (m-1)/(M-1) * (t_MAX - t_MIN)\n",
    "t = t_sampling(np.arange(1, M+1))\n",
    "\n",
    "K = exp(-np.tensordot(t, T, axes = 0))\n",
    "\n",
    "z = K @ original_signal\n",
    "sigma = 0.01 * z[0]\n",
    "I_M = np.identity(M)\n",
    "cov = sigma**2 * I_M\n",
    "mean = np.zeros(M)\n",
    "\n",
    "w = np.random.multivariate_normal(mean, cov)\n",
    "y = z + w\n",
    "\n",
    "K_SQUARE = K.T @ K\n",
    "KY = K.T @ y\n",
    "\n",
    "def relative_change(x, x_new):\n",
    "    return linalg.norm(x_new-x) / linalg.norm(x)\n",
    "\n",
    "X_BAR_SQUARE = np.dot(original_signal, original_signal)\n",
    "def normalized_quadratic_error(restored_signal):\n",
    "    x_hat_square = np.dot(restored_signal, restored_signal)\n",
    "    return (x_hat_square -2 * np.dot(original_signal, restored_signal) + X_BAR_SQUARE) / X_BAR_SQUARE\n",
    "\n",
    "MATRIX = K_SQUARE\n",
    "def grad_g(x):\n",
    "    '''return gradient of g'''\n",
    "    return MATRIX @ x - KY\n",
    "    \n",
    "\n",
    "def prox_f(gamma, x): # gamma = gamma*beta!\n",
    "    return gamma * np.real(lambertw(exp(x/gamma -1 - log(gamma))))\n",
    "\n",
    "ID = np.identity(N)\n",
    "def prox_g(gamma, x):\n",
    "    argmin = linalg.solve(gamma*K_SQUARE + ID, x+gamma*KY)\n",
    "    return argmin\n"
   ]
  },
  {
   "cell_type": "markdown",
   "metadata": {},
   "source": [
    "#### Foward-backward algorithm implementation"
   ]
  },
  {
   "cell_type": "code",
   "execution_count": 2,
   "metadata": {},
   "outputs": [],
   "source": [
    "Y_SQUARE = y @ y\n",
    "\n",
    "def prox(Chi, ksi):\n",
    "    \"\"\"Prox of Chi * norm_1(ksi). Note that ksi could be a vector.\"\"\"\n",
    "    return np.sign(ksi) * np.maximum(np.abs(ksi) - Chi, 0)\n",
    "\n",
    "def Foward_Backward(x_0, eps, beta):  \n",
    "\n",
    "    # Parameters\n",
    "    nu = np.max(np.abs(linalg.eigvals(MATRIX)))\n",
    "    gamma = (2 / nu) * 0.98\n",
    "    delta = 2 - gamma*nu/2\n",
    "    \n",
    "    def line_search(x, prox_y):\n",
    "        lamb_candidate = np.array([0.01, 0.05, 0.1, 0.2, 0.5, 1])\n",
    "        Lambda = lamb_candidate * 0.98 * gamma\n",
    "        Lambda = np.tile(Lambda, (N,1)).T\n",
    "        X = np.tile(x, (lamb_candidate.size, 1))\n",
    "        X_candidate = X + Lambda * (prox_y - x)\n",
    "        f_X_candidate = 1/2 * np.einsum('ij,ji->i', X_candidate @ K_SQUARE, X_candidate.T) \n",
    "        f_X_candidate -= X_candidate @ KY \n",
    "        f_X_candidate += 1/2*Y_SQUARE \n",
    "        f_X_candidate += beta/2 * linalg.norm(X_candidate, ord=1, axis=1) \n",
    "        minimum_x = X_candidate[np.argmin(f_X_candidate)]\n",
    "\n",
    "        return minimum_x\n",
    "\n",
    "    # Initialisation\n",
    "    x = x_0\n",
    "    stopping_criteria = 1\n",
    "    iteration = 0\n",
    "    MAX_ITER = 1e5\n",
    "    \n",
    "    \n",
    "    # Itération\n",
    "    while stopping_criteria > eps :\n",
    "        if iteration > MAX_ITER:\n",
    "            print('max iteration {} reached'.format(MAX_ITER))\n",
    "            return x\n",
    "        \n",
    "        iteration += 1\n",
    "        z = x-gamma*grad_g(x)\n",
    "        prox_z = prox_f(gamma * beta, z)\n",
    "        x_new = line_search(x, prox_z)\n",
    "        \n",
    "        #print(x)\n",
    "        stopping_criteria = relative_change(x, x_new)\n",
    "        x = x_new\n",
    "\n",
    "        #if iteration%100 == 0:\n",
    "            #print('iter = {}, err = {}, norme x = {}'.format(iteration,stopping_criteria,np.linalg.norm(x)))\n",
    "    \n",
    "    return x"
   ]
  },
  {
   "cell_type": "code",
   "execution_count": 3,
   "metadata": {},
   "outputs": [
    {
     "name": "stdout",
     "output_type": "stream",
     "text": [
      "error = 0.00046055 with Foward Backward Algorithm, β=0.02\n"
     ]
    },
    {
     "data": {
      "image/png": "[encoded data removed]",
      "text/plain": [
       "<Figure size 432x288 with 1 Axes>"
      ]
     },
     "metadata": {
      "needs_background": "light"
     },
     "output_type": "display_data"
    }
   ],
   "source": [
    "#beta = 1e-02\n",
    "beta =0.02\n",
    "x_0 = original_signal\n",
    "restored_signal_FB = Foward_Backward(x_0, 1e-6, beta)\n",
    "plt.plot(T, restored_signal_FB, 'b-', label='restored signal')\n",
    "plt.plot(T, original_signal, 'r-', label='original signal')\n",
    "plt.title('restored signal with foward backward, \\u03B2={}'.format(beta))\n",
    "plt.legend()\n",
    "plt.xscale('log')\n",
    "plt.xlabel('T')\n",
    "plt.ylabel('X(T)');\n",
    "\n",
    "error = normalized_quadratic_error(restored_signal_FB)\n",
    "print('error = {:9.8f} with Foward Backward Algorithm, \\u03B2={}'.format(error, beta))\n"
   ]
  },
  {
   "cell_type": "markdown",
   "metadata": {},
   "source": [
    "#### Douglas Rachford algorithm implementation"
   ]
  },
  {
   "cell_type": "code",
   "execution_count": 4,
   "metadata": {},
   "outputs": [],
   "source": [
    "def Douglas_Rachford(x_0, eps, beta):\n",
    "    \n",
    "    lamb = 1/2\n",
    "    gamma = 1\n",
    "    x = x_0\n",
    "    MAX_ITER = int(1e6)\n",
    "    \n",
    "#     breakpoint()\n",
    "    for _ in range(MAX_ITER):\n",
    "        z = prox_g(gamma, x)\n",
    "        w = prox_f(gamma*beta, 2*z-x)\n",
    "        x_next = x + lamb * (w - z)\n",
    "        change_rate = relative_change(x, x_next)\n",
    "        x = x_next\n",
    "        if change_rate < eps:\n",
    "            return x\n",
    "    return x\n",
    "            "
   ]
  },
  {
   "cell_type": "code",
   "execution_count": 5,
   "metadata": {},
   "outputs": [
    {
     "name": "stdout",
     "output_type": "stream",
     "text": [
      "error = 22.06796630 with Douglas Rachford Algorithm, β=0.01\n"
     ]
    },
    {
     "data": {
      "image/png": "[encoded data removed]",
      "text/plain": [
       "<Figure size 432x288 with 1 Axes>"
      ]
     },
     "metadata": {
      "needs_background": "light"
     },
     "output_type": "display_data"
    }
   ],
   "source": [
    "beta =0.01\n",
    "x_0 = original_signal\n",
    "restored_signal_DR = Douglas_Rachford(x_0, 1e-6, beta)\n",
    "plt.plot(T, restored_signal_DR, 'b-', label='restored signal')\n",
    "plt.plot(T, original_signal, 'r-', label='original signal')\n",
    "plt.title('restored signal with Douglas-Rachford , \\u03B2={} '.format(beta))\n",
    "plt.legend()\n",
    "plt.xscale('log')\n",
    "plt.xlabel('T')\n",
    "plt.ylabel('X(T)');\n",
    "\n",
    "error = normalized_quadratic_error(restored_signal_DR)\n",
    "print('error = {:9.8f} with Douglas Rachford Algorithm, \\u03B2={}'.format(error, beta))"
   ]
  },
  {
   "cell_type": "markdown",
   "metadata": {},
   "source": [
    "### 6. Best choice for parameter β in terms of reconstruction error"
   ]
  },
  {
   "cell_type": "markdown",
   "metadata": {},
   "source": [
    "#### Foward-backward algorithm"
   ]
  },
  {
   "cell_type": "code",
   "execution_count": 6,
   "metadata": {},
   "outputs": [
    {
     "name": "stdout",
     "output_type": "stream",
     "text": [
      "max iteration 100000.0 reached\n",
      "max iteration 100000.0 reached\n",
      "max iteration 100000.0 reached\n",
      "max iteration 100000.0 reached\n",
      "max iteration 100000.0 reached\n",
      "max iteration 100000.0 reached\n",
      "max iteration 100000.0 reached\n",
      "max iteration 100000.0 reached\n",
      "max iteration 100000.0 reached\n"
     ]
    },
    {
     "data": {
      "image/png": "[encoded data removed]",
      "text/plain": [
       "<Figure size 432x288 with 1 Axes>"
      ]
     },
     "metadata": {
      "needs_background": "light"
     },
     "output_type": "display_data"
    }
   ],
   "source": [
    "def error_FB_beta(beta):\n",
    "    restored_signal = Foward_Backward(x_0, 1e-06, beta)\n",
    "    error_beta = normalized_quadratic_error(restored_signal)\n",
    "    return error_beta\n",
    "\n",
    "Beta = np.linspace(0.02, 10, 10)\n",
    "Error_FB = []\n",
    "for beta in Beta :\n",
    "    Error_FB.append(error_FB_beta(beta))\n",
    "\n",
    "plt.plot(Beta, Error_FB, 'o-', markersize=2)\n",
    "plt.xlabel('\\u03B2')\n",
    "plt.ylabel('error');\n",
    "\n",
    "min_index = np.argmin(Error_FB)\n",
    "minimum = Beta[min_index]\n",
    "min_val = Error_FB[min_index]\n",
    "\n",
    "plt.scatter(minimum, min_val, s= 60, c = 'red', label = 'minimum = {:5.4f} with value {:5.4f}'.format(minimum, min_val))\n",
    "plt.legend();"
   ]
  },
  {
   "cell_type": "markdown",
   "metadata": {},
   "source": [
    "#### Douglas Rachford algorithm"
   ]
  },
  {
   "cell_type": "code",
   "execution_count": 7,
   "metadata": {},
   "outputs": [
    {
     "data": {
      "image/png": "[encoded data removed]",
      "text/plain": [
       "<Figure size 432x288 with 1 Axes>"
      ]
     },
     "metadata": {
      "needs_background": "light"
     },
     "output_type": "display_data"
    }
   ],
   "source": [
    "def error_DR_beta(beta):\n",
    "    restored_signal = Douglas_Rachford(x_0, 1e-06, beta)\n",
    "    error_beta = normalized_quadratic_error(restored_signal)\n",
    "    return error_beta\n",
    "\n",
    "Beta = np.linspace(0.0001, 0.1, 1000)\n",
    "Error_DR = []\n",
    "for beta in Beta :\n",
    "    Error_DR.append(error_DR_beta(beta))\n",
    "\n",
    "plt.plot(Beta, Error_DR, 'o-', markersize=2)\n",
    "plt.xlabel('\\u03B2')\n",
    "plt.ylabel('error');\n",
    "\n",
    "min_index = np.argmin(Error_DR)\n",
    "minimum = Beta[min_index]\n",
    "min_val = Error_DR[min_index]\n",
    "\n",
    "plt.scatter(minimum, min_val, s= 60, c = 'red', label = 'minimum = {:5.4f} with value {:5.4f}'.format(minimum, min_val))\n",
    "plt.legend();"
   ]
  },
  {
   "cell_type": "markdown",
   "metadata": {},
   "source": [
    "For the best value $\\beta = 0.0003$, we plot the restored signal."
   ]
  },
  {
   "cell_type": "code",
   "execution_count": 8,
   "metadata": {},
   "outputs": [
    {
     "name": "stdout",
     "output_type": "stream",
     "text": [
      "error = 0.15700482 with Douglas Rachford Algorithm, β=0.0003\n"
     ]
    },
    {
     "data": {
      "image/png": "[encoded data removed]",
      "text/plain": [
       "<Figure size 432x288 with 1 Axes>"
      ]
     },
     "metadata": {
      "needs_background": "light"
     },
     "output_type": "display_data"
    }
   ],
   "source": [
    "beta = 0.0003\n",
    "x_0 = original_signal\n",
    "restored_signal_DR = Douglas_Rachford(x_0, 1e-6, beta)\n",
    "plt.plot(T, restored_signal_DR, 'b-', label='restored signal')\n",
    "plt.plot(T, original_signal, 'r-', label='original signal')\n",
    "plt.title('restored signal with Douglas-Rachford , \\u03B2={} '.format(beta))\n",
    "plt.legend()\n",
    "plt.xscale('log')\n",
    "plt.xlabel('T')\n",
    "plt.ylabel('X(T)');\n",
    "\n",
    "error = normalized_quadratic_error(restored_signal_DR)\n",
    "print('error = {:9.8f} with Douglas Rachford Algorithm, \\u03B2={}'.format(error, beta))"
   ]
  },
  {
   "cell_type": "markdown",
   "metadata": {},
   "source": [
    "### 7. Compare the maximum entropy regularization with the ones proposed in the previous part in terms of reconstruction quality"
   ]
  },
  {
   "cell_type": "markdown",
   "metadata": {},
   "source": [
    "Here we recap the errors obtained (with the best value of $\\beta$ we could find) with different reconstruction strategies :\n",
    "* Smoothness prior with solving linear system : error = 0.4927\n",
    "* Smoothness prior + constrainst with projected gradient method : error = 0.0768\n",
    "* Sparsity prior with Foward-Backward algorithm : error = 0.0024\n",
    "* Entropy regularization with Foward-Backward algorithm : error =  0.0005\n",
    "* Entropy regularization with Douglas-Rachford algorithm : error = 0.5450\n",
    "\n",
    "The best results are still achieved by the Entropy regularization with Foward-Backward algorithm."
   ]
  },
  {
   "cell_type": "markdown",
   "metadata": {},
   "source": [
    "### 8. Changing the problem"
   ]
  },
  {
   "cell_type": "markdown",
   "metadata": {},
   "source": [
    "We propose to use the PPXA+ method. Let : \n",
    "* $h_1(x) = \\text{ent}(x) \\in \\Gamma_0(\\mathbb{R}^N)$, $h_2(x) = \\iota_{C}\\in \\Gamma_0(\\mathbb{R}^M)$ where $C =\\bar{\\mathcal{B}}(y, \\sqrt{\\eta M}\\sigma)$ is a closed convex non empty set.\n",
    "* $L_1 = I$ and $L_2 = K$. \n",
    "\n",
    "Then the problem $$\n",
    "\\begin{align}\n",
    "&\\text{minimize}  & \\text{ent}(x)&= \\sum_{i=1}^N \\phi(x_i) \\\\\n",
    "&\\text{subject to}  \n",
    "  &\\left\\| Kx-y \\right\\|^2 &\\leq \\eta M \\sigma^2 \n",
    "\\end{align}\n",
    "$$\n",
    "\n",
    "can be rewritten :\n",
    "$$\n",
    "\\begin{align}\n",
    "&\\text{minimize}  & h_1\\circ L_1(x) + h_2\\circ L_2(x) & \\\\\n",
    "& x \\in \\mathbb{R}^N  \n",
    "\\end{align}\n",
    "$$\n",
    "\n",
    "For the implementation, we will be needing : \n",
    "\\begin{align*}\\text{prox}_{\\gamma h_2} (x) &= P_C(x) \\\\\n",
    "&= \\left \\{ \\begin{array}{l} \\begin{array}{l l}\n",
    "\tx & \\text{if } \\Vert x- y \\Vert \\leq \\sqrt{\\eta M }\\sigma \\\\\n",
    "\ty + \\frac{x-y}{\\Vert x-y\\Vert} \\sqrt{\\eta M} \\sigma & \\text{ else }\n",
    "\\end{array} \\end{array} \\right. \\\\\n",
    "& = y + (x-y) \\min \\left(1, \\frac{ \\sqrt{\\eta M} \\sigma }{\\Vert x-y\\Vert} \\right)\n",
    "\\\\ \n",
    "\\text{prox}_{\\gamma h_1}(x) &= \\left(\\gamma W \\left( e^{-1 - \\log(\\gamma)+ \\frac{x_n}{(\\gamma)}}\\right)\\right)_{n\\in [1, N]}\\end{align*}\n",
    "\n",
    "We set $\\lambda_n  =1/2 $ for all $n \\in \\mathbb{N}$ and $\\gamma =1$."
   ]
  },
  {
   "cell_type": "markdown",
   "metadata": {},
   "source": [
    "#### Implementation "
   ]
  },
  {
   "cell_type": "code",
   "execution_count": 451,
   "metadata": {},
   "outputs": [],
   "source": [
    "def prox_h_1(gamma, x):\n",
    "    return gamma * np.real(lambertw(exp(x/gamma -1 - log(gamma))))\n",
    "def prox_h_2(eta, x): \n",
    "    return y + (x-y)*min(1.0, np.sqrt(eta*M)*sigma/(np.sqrt((x-y).dot(x-y))))\n",
    "    \n",
    "\n",
    "def PPXA(x_0, eps, eta):\n",
    "    \n",
    "    lamb = 1.90\n",
    "    gamma = 1\n",
    "    x_1 = x_0\n",
    "    x_2 = np.zeros(M)\n",
    "    MATRIX = K_SQUARE + np.eye(N)\n",
    "    v = linalg.solve(MATRIX,x_1+ K.T.dot(x_2))\n",
    "    \n",
    "    #MAX_ITER = int(1e6)\n",
    "    MAX_ITER = int(1e5)\n",
    "    for iteration in range(MAX_ITER):\n",
    "        z_1 = prox_h_1(gamma, x_1)\n",
    "        z_2 = prox_h_2(eta, x_2)\n",
    "        c = linalg.solve(MATRIX,z_1+ K.T.dot(z_2))\n",
    "        x_1 = x_1 + lamb*(2*c-v-z_1)\n",
    "        #print(x_1)\n",
    "        x_2 = x_2 + lamb*(K.dot(2*c-v)-z_2)\n",
    "        v_next = v + lamb*(c-v)\n",
    "        change_rate = relative_change(v, v_next)\n",
    "        v = v_next\n",
    "        \n",
    "        if change_rate < eps:\n",
    "            return v\n",
    "        #if iteration%500 == 0:\n",
    "            #print('iter = {}, err = {}'.format(iteration,change_rate))\n",
    "            #print(np.sqrt(eta*M)*sigma/(np.sqrt((K.dot(v)-y).dot(K.dot(v)-y))))\n",
    "    return v"
   ]
  },
  {
   "cell_type": "code",
   "execution_count": 452,
   "metadata": {},
   "outputs": [
    {
     "name": "stdout",
     "output_type": "stream",
     "text": [
      "error = 0.09345782 with PPXA Algorithm, eta=0.8\n"
     ]
    },
    {
     "data": {
      "image/png": "[encoded data removed]",
      "text/plain": [
       "<Figure size 432x288 with 1 Axes>"
      ]
     },
     "metadata": {
      "needs_background": "light"
     },
     "output_type": "display_data"
    }
   ],
   "source": [
    "eta = 0.8\n",
    "x_0 = original_signal\n",
    "restored_signal_PPXA = PPXA(x_0, 1e-5, eta)\n",
    "plt.plot(T, restored_signal_PPXA, 'b-', label='restored signal')\n",
    "plt.plot(T, original_signal, 'r-', label='original signal')\n",
    "plt.title('restored signal with PPXA , eta={} '.format(eta))\n",
    "plt.legend()\n",
    "plt.xscale('log')\n",
    "plt.xlabel('T')\n",
    "plt.ylabel('X(T)');\n",
    "\n",
    "error = normalized_quadratic_error(restored_signal_PPXA)\n",
    "print('error = {:9.8f} with PPXA Algorithm, eta={}'.format(error, eta))"
   ]
  },
  {
   "cell_type": "markdown",
   "metadata": {},
   "source": [
    "#### Best value of $\\eta$"
   ]
  },
  {
   "cell_type": "code",
   "execution_count": 454,
   "metadata": {},
   "outputs": [
    {
     "data": {
      "image/png": "[encoded data removed]",
      "text/plain": [
       "<Figure size 432x288 with 1 Axes>"
      ]
     },
     "metadata": {
      "needs_background": "light"
     },
     "output_type": "display_data"
    }
   ],
   "source": [
    "def error_PPXA_eta(eta):\n",
    "    restored_signal = PPXA(x_0, 1e-06, eta)\n",
    "    error_eta = normalized_quadratic_error(restored_signal)\n",
    "    return error_eta\n",
    "\n",
    "Eta = np.linspace(0.1, 2, 100)\n",
    "Error_PPXA = []\n",
    "for eta in Eta :\n",
    "    Error_PPXA.append(error_PPXA_eta(eta))\n",
    "\n",
    "plt.plot(Eta, Error_PPXA, 'o-', markersize=2)\n",
    "plt.xlabel('\\u03B2')\n",
    "plt.ylabel('error');\n",
    "\n",
    "min_index = np.argmin(Error_PPXA)\n",
    "minimum = Eta[min_index]\n",
    "min_val = Error_PPXA[min_index]\n",
    "\n",
    "plt.scatter(minimum, min_val, s= 60, c = 'red', label = 'minimum = {:5.4f} with value {:5.4f}'.format(minimum, min_val))\n",
    "plt.legend();"
   ]
  },
  {
   "cell_type": "markdown",
   "metadata": {},
   "source": [
    "#### Best restoration"
   ]
  },
  {
   "cell_type": "code",
   "execution_count": 459,
   "metadata": {
    "scrolled": true
   },
   "outputs": [
    {
     "name": "stdout",
     "output_type": "stream",
     "text": [
      "error = 0.05060234 with PPXA Algorithm, eta=1.1171717171717173\n"
     ]
    },
    {
     "data": {
      "image/png": "[encoded data removed]",
      "text/plain": [
       "<Figure size 432x288 with 1 Axes>"
      ]
     },
     "metadata": {
      "needs_background": "light"
     },
     "output_type": "display_data"
    }
   ],
   "source": [
    "eta = minimum\n",
    "x_0 = original_signal\n",
    "restored_signal_PPXA = PPXA(x_0, 1e-6, eta)\n",
    "plt.plot(T, restored_signal_PPXA, 'b-', label='restored signal')\n",
    "plt.plot(T, original_signal, 'r-', label='original signal')\n",
    "plt.title('restored signal with PPXA , eta={:6.5} '.format(eta))\n",
    "plt.legend()\n",
    "plt.xscale('log')\n",
    "plt.xlabel('T')\n",
    "plt.ylabel('X(T)');\n",
    "\n",
    "error = normalized_quadratic_error(restored_signal_PPXA)\n",
    "print('error = {:9.8f} with PPXA Algorithm, eta={}'.format(error, eta))"
   ]
  },
  {
   "cell_type": "markdown",
   "metadata": {},
   "source": [
    "#### _Appendix_ Another method: Interior-point"
   ]
  },
  {
   "cell_type": "markdown",
   "metadata": {},
   "source": [
    "The problem is equivalent to:\n",
    "$$\n",
    "\\begin{align}\n",
    "&\\text{minimize}  & \\text{ent}(x)&= \\sum_{i=1}^N \\phi(x_i) \\\\\n",
    "&\\text{subject to}    & -x & \\preceq 0 \\\\\n",
    "&  &\\left\\| Kx-y \\right\\|^2 -\\eta M \\sigma^2 &\\preceq 0\n",
    "\\end{align}\n",
    "$$"
   ]
  },
  {
   "cell_type": "markdown",
   "metadata": {},
   "source": [
    "The objective function is convex and the inequality contraints are all convex. The objective is twice differentiable in the interior of $\\{ -x \\preceq 0\\}$. So we can apply the **newton method with log-barrier**.\n",
    "\n",
    "**_Remark_**: Effectively $ent$ is not differentiable in the boundary of feasible domain i.e. $x = 0$. But the interior point method will not go to the boundary."
   ]
  },
  {
   "cell_type": "markdown",
   "metadata": {},
   "source": [
    "**_Result_**: Unfortunately, the problem is not well posed for the interior point with log-barrier. Because the value of signal is too small near $0$ so that the hessian of _ent_ explodes and we cannot inverse this ill-conditionned hessian to get a newton descent step."
   ]
  },
  {
   "cell_type": "code",
   "execution_count": 6,
   "metadata": {},
   "outputs": [],
   "source": [
    "# eta = 1.1\n",
    "\n",
    "def ent(x):\n",
    "    return np.sum(x * np.log(x))\n",
    "\n",
    "def grad_ent(x):\n",
    "    return np.log(x) + 1\n",
    "\n",
    "def hess_ent(x):\n",
    "    return np.diag(1/x)\n",
    "\n",
    "def g(eta, x):\n",
    "    \"\"\"Constraints function.\"\"\"\n",
    "    constraint = x @ MATRIX @ x - 2*x @ KY + Y_SQUARE - eta * M * sigma\n",
    "    return np.append(-x, constraint)\n",
    "\n",
    "def jac_g(x):\n",
    "    constraint = 2*(K_SQUARE @ x - KY)\n",
    "    return np.append(-np.eye(N), constraint[np.newaxis,:], 0)\n",
    "\n",
    "def hess_g(x):\n",
    "    return np.append(np.zeros((N,N,N)), 2*MATRIX[np.newaxis,:], 0)\n"
   ]
  },
  {
   "cell_type": "code",
   "execution_count": 21,
   "metadata": {},
   "outputs": [],
   "source": [
    "#Notations in the Convex Optimization of S.Boyd\n",
    "\n",
    "# import math\n",
    "from functools import partial\n",
    "# def mylog(x):\n",
    "#     try:\n",
    "#         return math.log(x)\n",
    "#     except ValueError:\n",
    "#         return -math.inf\n",
    "\n",
    "\n",
    "def line_search(f,\n",
    "                x: \"starting point in the feasible domain of f\",\n",
    "                Delta_x: \"descent direction\",\n",
    "                gradient_f_x: \"gradient of f at x\",\n",
    "                a: \"affinity of approximation\" = 0.25,\n",
    "                b: \"decreasing rate\" = 0.5\n",
    "    ) -> \"step size\":\n",
    "    \"\"\"Backtracking line search in the Convex Optimization of S.Boyd page 464.\"\"\"\n",
    "    t = 1\n",
    "    while f(x + t*Delta_x) > f(x) + a*t*gradient_f_x @ Delta_x:\n",
    "        t = b*t\n",
    "    return t\n",
    "\n",
    "def newton_method(\n",
    "        f: \"convex function to be minimized\",\n",
    "        x: \"starting point in the strictly feasible domain of f\",\n",
    "        e: \"tolerance, >0\",\n",
    "        gradient_f,\n",
    "        hessian_f,\n",
    "        a: \"line search parameter, affinity of approximation\" = 0.25,\n",
    "        b: \"line search parameter, decreasing rate\" = 0.5\n",
    "    ) -> \"argmin f\":\n",
    "    \"\"\"Newton's method in the page 487\"\"\"\n",
    "    while True:\n",
    "        Grad_f_x = gradient_f(x)\n",
    "        Hess_f_x = hessian_f(x)\n",
    "        \n",
    "#         breakpoint()\n",
    "        newton_step = linalg.solve(Hess_f_x, Grad_f_x)\n",
    "#         Hess_f_x_inv = np.linalg.inv(hessian_f(x))\n",
    "        \n",
    "        decrement = Grad_f_x @ newton_step\n",
    "        if decrement/2 < e:\n",
    "            return x\n",
    "#         newton_step = -Hess_f_x_inv @ Grad_f_x\n",
    "        newton_direction = - newton_step\n",
    "\n",
    "        t = line_search(f, x, newton_direction, Grad_f_x, a, b)\n",
    "        x = x + t*newton_direction\n",
    "        \n",
    "def barrier_inegality(\n",
    "        f0: \"Objective convex function to be minimized\",\n",
    "        g: \"Inequality constranits convex vectorized function\",\n",
    "        grad_f0,\n",
    "        hess_f0,\n",
    "        jac_g,\n",
    "        hess_g,\n",
    "        x:  \"strictly feasible starting point\",\n",
    "        e:  \"tolerance, >0\",\n",
    "        t:  \"t0 > 0\" = 1,\n",
    "        nu: \"> 1\" = 5\n",
    ") -> \"x* argmin with inequality constraints\":   \n",
    "    \n",
    "    m = g(x).size\n",
    "    \n",
    "    def phi(x):\n",
    "        return - np.sum(np.log(-g(x)))\n",
    "    def grad_phi(x):\n",
    "#         breakpoint()\n",
    "        return jac_g(x).T @ (1/(-g(x)))\n",
    "    def hess_phi(x):\n",
    "        jacobian = jac_g(x)\n",
    "        g_x = g(x)\n",
    "        inv_g_square = (1/g_x**2)[:, np.newaxis]\n",
    "        return jacobian.T @ (jacobian * inv_g_square) + np.tensordot(-1/g_x, hess_g(x), 1)\n",
    "    \n",
    "    while True:\n",
    "        def f(t, x): return t * f0(x) + phi(x)\n",
    "        def grad_f(t, x): return t* grad_f0(x) + grad_phi(x)\n",
    "        def hess_f(t, x): return t* hess_f0(x) + hess_phi(x)\n",
    "        x_star_t = newton_method(partial(f, t),\n",
    "                                 x, e,\n",
    "                                 partial(grad_f, t),\n",
    "                                 partial(hess_f, t))\n",
    "\n",
    "        x = x_star_t\n",
    "        if m/t < e:\n",
    "            return x\n",
    "        t = nu * t"
   ]
  },
  {
   "cell_type": "code",
   "execution_count": 23,
   "metadata": {},
   "outputs": [
    {
     "name": "stderr",
     "output_type": "stream",
     "text": [
      "C:\\Users\\limen\\Miniconda3\\lib\\site-packages\\ipykernel_launcher.py:40: LinAlgWarning: Ill-conditioned matrix (rcond=1.84751e-44): result may not be accurate.\n",
      "C:\\Users\\limen\\Miniconda3\\lib\\site-packages\\ipykernel_launcher.py:40: LinAlgWarning: Ill-conditioned matrix (rcond=1.55665e-44): result may not be accurate.\n",
      "C:\\Users\\limen\\Miniconda3\\lib\\site-packages\\ipykernel_launcher.py:68: RuntimeWarning: invalid value encountered in log\n",
      "C:\\Users\\limen\\Miniconda3\\lib\\site-packages\\ipykernel_launcher.py:40: LinAlgWarning: Ill-conditioned matrix (rcond=2.85232e-44): result may not be accurate.\n",
      "C:\\Users\\limen\\Miniconda3\\lib\\site-packages\\ipykernel_launcher.py:40: LinAlgWarning: Ill-conditioned matrix (rcond=5.19437e-44): result may not be accurate.\n",
      "C:\\Users\\limen\\Miniconda3\\lib\\site-packages\\ipykernel_launcher.py:40: LinAlgWarning: Ill-conditioned matrix (rcond=6.25797e-44): result may not be accurate.\n",
      "C:\\Users\\limen\\Miniconda3\\lib\\site-packages\\ipykernel_launcher.py:40: LinAlgWarning: Ill-conditioned matrix (rcond=9.44585e-44): result may not be accurate.\n",
      "C:\\Users\\limen\\Miniconda3\\lib\\site-packages\\ipykernel_launcher.py:40: LinAlgWarning: Ill-conditioned matrix (rcond=2.00236e-43): result may not be accurate.\n",
      "C:\\Users\\limen\\Miniconda3\\lib\\site-packages\\ipykernel_launcher.py:40: LinAlgWarning: Ill-conditioned matrix (rcond=6.42356e-43): result may not be accurate.\n",
      "C:\\Users\\limen\\Miniconda3\\lib\\site-packages\\ipykernel_launcher.py:40: LinAlgWarning: Ill-conditioned matrix (rcond=2.51055e-42): result may not be accurate.\n",
      "C:\\Users\\limen\\Miniconda3\\lib\\site-packages\\ipykernel_launcher.py:40: LinAlgWarning: Ill-conditioned matrix (rcond=1.00628e-41): result may not be accurate.\n",
      "C:\\Users\\limen\\Miniconda3\\lib\\site-packages\\ipykernel_launcher.py:40: LinAlgWarning: Ill-conditioned matrix (rcond=4.03608e-41): result may not be accurate.\n",
      "C:\\Users\\limen\\Miniconda3\\lib\\site-packages\\ipykernel_launcher.py:40: LinAlgWarning: Ill-conditioned matrix (rcond=1.61843e-40): result may not be accurate.\n",
      "C:\\Users\\limen\\Miniconda3\\lib\\site-packages\\ipykernel_launcher.py:40: LinAlgWarning: Ill-conditioned matrix (rcond=6.48844e-40): result may not be accurate.\n",
      "C:\\Users\\limen\\Miniconda3\\lib\\site-packages\\ipykernel_launcher.py:40: LinAlgWarning: Ill-conditioned matrix (rcond=2.60028e-39): result may not be accurate.\n",
      "C:\\Users\\limen\\Miniconda3\\lib\\site-packages\\ipykernel_launcher.py:40: LinAlgWarning: Ill-conditioned matrix (rcond=1.04138e-38): result may not be accurate.\n",
      "C:\\Users\\limen\\Miniconda3\\lib\\site-packages\\ipykernel_launcher.py:40: LinAlgWarning: Ill-conditioned matrix (rcond=4.17032e-38): result may not be accurate.\n",
      "C:\\Users\\limen\\Miniconda3\\lib\\site-packages\\ipykernel_launcher.py:40: LinAlgWarning: Ill-conditioned matrix (rcond=1.66941e-37): result may not be accurate.\n",
      "C:\\Users\\limen\\Miniconda3\\lib\\site-packages\\ipykernel_launcher.py:40: LinAlgWarning: Ill-conditioned matrix (rcond=6.68052e-37): result may not be accurate.\n",
      "C:\\Users\\limen\\Miniconda3\\lib\\site-packages\\ipykernel_launcher.py:40: LinAlgWarning: Ill-conditioned matrix (rcond=2.67295e-36): result may not be accurate.\n",
      "C:\\Users\\limen\\Miniconda3\\lib\\site-packages\\ipykernel_launcher.py:40: LinAlgWarning: Ill-conditioned matrix (rcond=1.06946e-35): result may not be accurate.\n",
      "C:\\Users\\limen\\Miniconda3\\lib\\site-packages\\ipykernel_launcher.py:40: LinAlgWarning: Ill-conditioned matrix (rcond=4.27975e-35): result may not be accurate.\n",
      "C:\\Users\\limen\\Miniconda3\\lib\\site-packages\\ipykernel_launcher.py:40: LinAlgWarning: Ill-conditioned matrix (rcond=1.71219e-34): result may not be accurate.\n",
      "C:\\Users\\limen\\Miniconda3\\lib\\site-packages\\ipykernel_launcher.py:40: LinAlgWarning: Ill-conditioned matrix (rcond=6.84979e-34): result may not be accurate.\n",
      "C:\\Users\\limen\\Miniconda3\\lib\\site-packages\\ipykernel_launcher.py:40: LinAlgWarning: Ill-conditioned matrix (rcond=2.74029e-33): result may not be accurate.\n",
      "C:\\Users\\limen\\Miniconda3\\lib\\site-packages\\ipykernel_launcher.py:40: LinAlgWarning: Ill-conditioned matrix (rcond=1.09656e-32): result may not be accurate.\n",
      "C:\\Users\\limen\\Miniconda3\\lib\\site-packages\\ipykernel_launcher.py:40: LinAlgWarning: Ill-conditioned matrix (rcond=4.38664e-32): result may not be accurate.\n",
      "C:\\Users\\limen\\Miniconda3\\lib\\site-packages\\ipykernel_launcher.py:40: LinAlgWarning: Ill-conditioned matrix (rcond=1.7548e-31): result may not be accurate.\n",
      "C:\\Users\\limen\\Miniconda3\\lib\\site-packages\\ipykernel_launcher.py:40: LinAlgWarning: Ill-conditioned matrix (rcond=7.01997e-31): result may not be accurate.\n",
      "C:\\Users\\limen\\Miniconda3\\lib\\site-packages\\ipykernel_launcher.py:40: LinAlgWarning: Ill-conditioned matrix (rcond=2.80884e-30): result may not be accurate.\n",
      "C:\\Users\\limen\\Miniconda3\\lib\\site-packages\\ipykernel_launcher.py:40: LinAlgWarning: Ill-conditioned matrix (rcond=1.12358e-29): result may not be accurate.\n",
      "C:\\Users\\limen\\Miniconda3\\lib\\site-packages\\ipykernel_launcher.py:40: LinAlgWarning: Ill-conditioned matrix (rcond=4.49577e-29): result may not be accurate.\n",
      "C:\\Users\\limen\\Miniconda3\\lib\\site-packages\\ipykernel_launcher.py:40: LinAlgWarning: Ill-conditioned matrix (rcond=1.79835e-28): result may not be accurate.\n",
      "C:\\Users\\limen\\Miniconda3\\lib\\site-packages\\ipykernel_launcher.py:40: LinAlgWarning: Ill-conditioned matrix (rcond=7.19356e-28): result may not be accurate.\n",
      "C:\\Users\\limen\\Miniconda3\\lib\\site-packages\\ipykernel_launcher.py:40: LinAlgWarning: Ill-conditioned matrix (rcond=2.87824e-27): result may not be accurate.\n",
      "C:\\Users\\limen\\Miniconda3\\lib\\site-packages\\ipykernel_launcher.py:40: LinAlgWarning: Ill-conditioned matrix (rcond=1.15129e-26): result may not be accurate.\n",
      "C:\\Users\\limen\\Miniconda3\\lib\\site-packages\\ipykernel_launcher.py:40: LinAlgWarning: Ill-conditioned matrix (rcond=4.60642e-26): result may not be accurate.\n",
      "C:\\Users\\limen\\Miniconda3\\lib\\site-packages\\ipykernel_launcher.py:40: LinAlgWarning: Ill-conditioned matrix (rcond=1.84254e-25): result may not be accurate.\n",
      "C:\\Users\\limen\\Miniconda3\\lib\\site-packages\\ipykernel_launcher.py:40: LinAlgWarning: Ill-conditioned matrix (rcond=7.37204e-25): result may not be accurate.\n",
      "C:\\Users\\limen\\Miniconda3\\lib\\site-packages\\ipykernel_launcher.py:40: LinAlgWarning: Ill-conditioned matrix (rcond=2.94874e-24): result may not be accurate.\n",
      "C:\\Users\\limen\\Miniconda3\\lib\\site-packages\\ipykernel_launcher.py:40: LinAlgWarning: Ill-conditioned matrix (rcond=1.17949e-23): result may not be accurate.\n",
      "C:\\Users\\limen\\Miniconda3\\lib\\site-packages\\ipykernel_launcher.py:40: LinAlgWarning: Ill-conditioned matrix (rcond=4.71895e-23): result may not be accurate.\n",
      "C:\\Users\\limen\\Miniconda3\\lib\\site-packages\\ipykernel_launcher.py:40: LinAlgWarning: Ill-conditioned matrix (rcond=1.88753e-22): result may not be accurate.\n",
      "C:\\Users\\limen\\Miniconda3\\lib\\site-packages\\ipykernel_launcher.py:40: LinAlgWarning: Ill-conditioned matrix (rcond=7.55169e-22): result may not be accurate.\n",
      "C:\\Users\\limen\\Miniconda3\\lib\\site-packages\\ipykernel_launcher.py:40: LinAlgWarning: Ill-conditioned matrix (rcond=3.02057e-21): result may not be accurate.\n",
      "C:\\Users\\limen\\Miniconda3\\lib\\site-packages\\ipykernel_launcher.py:40: LinAlgWarning: Ill-conditioned matrix (rcond=1.20847e-20): result may not be accurate.\n",
      "C:\\Users\\limen\\Miniconda3\\lib\\site-packages\\ipykernel_launcher.py:40: LinAlgWarning: Ill-conditioned matrix (rcond=4.83369e-20): result may not be accurate.\n",
      "C:\\Users\\limen\\Miniconda3\\lib\\site-packages\\ipykernel_launcher.py:40: LinAlgWarning: Ill-conditioned matrix (rcond=1.93382e-19): result may not be accurate.\n",
      "C:\\Users\\limen\\Miniconda3\\lib\\site-packages\\ipykernel_launcher.py:40: LinAlgWarning: Ill-conditioned matrix (rcond=7.73508e-19): result may not be accurate.\n",
      "C:\\Users\\limen\\Miniconda3\\lib\\site-packages\\ipykernel_launcher.py:40: LinAlgWarning: Ill-conditioned matrix (rcond=3.09445e-18): result may not be accurate.\n",
      "C:\\Users\\limen\\Miniconda3\\lib\\site-packages\\ipykernel_launcher.py:40: LinAlgWarning: Ill-conditioned matrix (rcond=1.23798e-17): result may not be accurate.\n",
      "C:\\Users\\limen\\Miniconda3\\lib\\site-packages\\ipykernel_launcher.py:40: LinAlgWarning: Ill-conditioned matrix (rcond=4.95136e-17): result may not be accurate.\n"
     ]
    },
    {
     "ename": "ValueError",
     "evalue": "Precision not allowed in integer format specifier",
     "output_type": "error",
     "traceback": [
      "\u001b[1;31m---------------------------------------------------------------------------\u001b[0m",
      "\u001b[1;31mValueError\u001b[0m                                Traceback (most recent call last)",
      "\u001b[1;32m<ipython-input-23-b4cc9df174e4>\u001b[0m in \u001b[0;36m<module>\u001b[1;34m\u001b[0m\n\u001b[0;32m      7\u001b[0m \u001b[0mplt\u001b[0m\u001b[1;33m.\u001b[0m\u001b[0mplot\u001b[0m\u001b[1;33m(\u001b[0m\u001b[0mT\u001b[0m\u001b[1;33m,\u001b[0m \u001b[0mrestored_signal_barrier\u001b[0m\u001b[1;33m,\u001b[0m \u001b[1;34m'b-'\u001b[0m\u001b[1;33m,\u001b[0m \u001b[0mlabel\u001b[0m\u001b[1;33m=\u001b[0m\u001b[1;34m'restored signal'\u001b[0m\u001b[1;33m)\u001b[0m\u001b[1;33m\u001b[0m\u001b[1;33m\u001b[0m\u001b[0m\n\u001b[0;32m      8\u001b[0m \u001b[0mplt\u001b[0m\u001b[1;33m.\u001b[0m\u001b[0mplot\u001b[0m\u001b[1;33m(\u001b[0m\u001b[0mT\u001b[0m\u001b[1;33m,\u001b[0m \u001b[0moriginal_signal\u001b[0m\u001b[1;33m,\u001b[0m \u001b[1;34m'r-'\u001b[0m\u001b[1;33m,\u001b[0m \u001b[0mlabel\u001b[0m\u001b[1;33m=\u001b[0m\u001b[1;34m'original signal'\u001b[0m\u001b[1;33m)\u001b[0m\u001b[1;33m\u001b[0m\u001b[1;33m\u001b[0m\u001b[0m\n\u001b[1;32m----> 9\u001b[1;33m \u001b[0mplt\u001b[0m\u001b[1;33m.\u001b[0m\u001b[0mtitle\u001b[0m\u001b[1;33m(\u001b[0m\u001b[1;34m'restored signal with Barrier method , eta={:6.5} '\u001b[0m\u001b[1;33m.\u001b[0m\u001b[0mformat\u001b[0m\u001b[1;33m(\u001b[0m\u001b[0meta\u001b[0m\u001b[1;33m)\u001b[0m\u001b[1;33m)\u001b[0m\u001b[1;33m\u001b[0m\u001b[1;33m\u001b[0m\u001b[0m\n\u001b[0m\u001b[0;32m     10\u001b[0m \u001b[0mplt\u001b[0m\u001b[1;33m.\u001b[0m\u001b[0mlegend\u001b[0m\u001b[1;33m(\u001b[0m\u001b[1;33m)\u001b[0m\u001b[1;33m\u001b[0m\u001b[1;33m\u001b[0m\u001b[0m\n\u001b[0;32m     11\u001b[0m \u001b[0mplt\u001b[0m\u001b[1;33m.\u001b[0m\u001b[0mxscale\u001b[0m\u001b[1;33m(\u001b[0m\u001b[1;34m'log'\u001b[0m\u001b[1;33m)\u001b[0m\u001b[1;33m\u001b[0m\u001b[1;33m\u001b[0m\u001b[0m\n",
      "\u001b[1;31mValueError\u001b[0m: Precision not allowed in integer format specifier"
     ]
    },
    {
     "data": {
      "image/png": "[encoded data removed]",
      "text/plain": [
       "<Figure size 432x288 with 1 Axes>"
      ]
     },
     "metadata": {
      "needs_background": "light"
     },
     "output_type": "display_data"
    }
   ],
   "source": [
    "eta = 1.1\n",
    "\n",
    "constraints = partial(g, eta)\n",
    "\n",
    "x_0 = original_signal #1/100*np.ones(N)#\n",
    "restored_signal_barrier = barrier_inegality(ent, constraints, grad_ent, hess_ent, jac_g, hess_g, x_0, 1e-06)\n",
    "plt.plot(T, restored_signal_barrier, 'b-', label='restored signal')\n",
    "plt.plot(T, original_signal, 'r-', label='original signal')\n",
    "plt.title('restored signal with Barrier method , eta={:6.5} '.format(eta))\n",
    "plt.legend()\n",
    "plt.xscale('log')\n",
    "plt.xlabel('T')\n",
    "plt.ylabel('X(T)');\n",
    "\n",
    "error = normalized_quadratic_error(restored_signal_barrier)\n",
    "print('error = {:9.8f} with Barrier method, eta={}'.format(error, eta))"
   ]
  },
  {
   "cell_type": "code",
   "execution_count": null,
   "metadata": {},
   "outputs": [],
   "source": []
  }
 ],
 "metadata": {
  "kernelspec": {
   "display_name": "Python 3",
   "language": "python",
   "name": "python3"
  },
  "language_info": {
   "codemirror_mode": {
    "name": "ipython",
    "version": 3
   },
   "file_extension": ".py",
   "mimetype": "text/x-python",
   "name": "python",
   "nbconvert_exporter": "python",
   "pygments_lexer": "ipython3",
   "version": "3.7.5"
  }
 },
 "nbformat": 4,
 "nbformat_minor": 4
}
