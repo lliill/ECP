{
 "cells": [
  {
   "cell_type": "markdown",
   "metadata": {},
   "source": [
    "# TP3 Reconstruction of DOSY NMR signals - Part II\n",
    "\n",
    "## Maximum entropy regularization"
   ]
  },
  {
   "cell_type": "markdown",
   "metadata": {},
   "source": [
    "### 1. Is ent convex ? proper ? lower-semicontinuous ? differentiable ?\n"
   ]
  },
  {
   "cell_type": "markdown",
   "metadata": {},
   "source": [
    "* **Lower-semicontinuous**\n",
    "\n",
    "$\\varphi$ is continuous on $\\mathbb{R}^+$ and for all sequence $(u_n)$ such that $u_n \\underset{n \\rightarrow +\\infty}\\rightarrow 0$, $~\\underset{n \\rightarrow +\\infty}{\\text{lim inf}}f(u_n)= + \\infty \\geq 0 = f(0)$. Thus $\\varphi$ is l.s.c. and finally $ent$ is l.s.c. as a sum of l.s.c. functions.\n",
    "\n",
    "* **Proper**\n",
    "\n",
    "$ent$ is proper since $ent(0) = 0< +\\infty$ and $ent(x) \\neq - \\infty$ $\\forall x\\in \\mathbb{R}$.\n",
    "\n",
    "* **Differentiable**\n",
    "\n",
    "$\\varphi$ is clearly differentiable on $\\mathbb{R}^+_*$ and so $ent$ is differentiable on $(\\mathbb{R}^+_*)^n$. However $\\varphi$ is not differentiable in 0 since $\\varphi'(u) = \\log(u) +1 \\underset{u \\rightarrow 0}{\\longrightarrow} -\\infty$. Hence we can not make the differentiation domain of $ent$ larger than $(\\mathbb{R}^+_*)^n$.\n",
    "\n",
    "* **Convex**\n",
    "\n",
    "For all $u\\in \\mathbb{R}^+_*$, $\\varphi''(u) = \\frac{1}{u} >0$ so $\\varphi$ is (strictly) convex on $\\mathbb{R}^+$. Thus $ent$ is (strictly) convex on $(\\mathbb{R}^+)^n$ as a sum of convex functions."
   ]
  },
  {
   "cell_type": "markdown",
   "metadata": {},
   "source": [
    "### 2. Has the optimization problem a solution ? Is it unique ?\n"
   ]
  },
  {
   "cell_type": "markdown",
   "metadata": {},
   "source": [
    "Let $h(x) =  \\frac{1}{2} \\Vert Kx -y\\Vert^2 + \\beta~ ent(x)$.\n",
    "* **Existence.**\n",
    "$h$ is l.s.c, proper and coercive so $h$ admits a minimum and this minimum lies in $(\\mathbb{R}^+)^n$.\n",
    "\n",
    "* **Uniqueness.**\n",
    "$ent$ is strictly convex on $(\\mathbb{R}^+)^n$ and $x \\mapsto  \\Vert Kx -y\\Vert^2$ is convex so $h$ is stricly convex on $(\\mathbb{R}^+)^n$. Therefore, the minimum on $(\\mathbb{R}^+)^n$ is unique.\n",
    "\n"
   ]
  },
  {
   "cell_type": "markdown",
   "metadata": {},
   "source": [
    "### 3. Give the expression of the proximity operator of ent at some x ∈ R"
   ]
  },
  {
   "cell_type": "markdown",
   "metadata": {},
   "source": [
    "Let us first compute the proximity operator of $\\gamma\\varphi$, for $\\gamma >0$. \n",
    "\n",
    "\\begin{align*}\n",
    "\\text{prox}_{\\varphi}(u) &= \\underset{y\\in \\mathbb{R}}{\\text{argmin}}~ \\gamma \\varphi(y) + \\frac{1}{2}\\Vert u-y \\Vert^2 \\\\\n",
    "&= \\underset{y\\in \\mathbb{R}^+}{\\text{argmin}}~ \\gamma y \\log(y) + \\frac{1}{2}\\Vert u-y \\Vert^2 \n",
    "\\end{align*}\n",
    "\n",
    "$g_u : y \\mapsto \\gamma y \\log(y) + \\frac{1}{2}\\Vert u-y \\Vert^2 = \\gamma y \\log(\\gamma y) - \\gamma y \\log(\\gamma) + \\frac{1}{2}\\Vert u-y \\Vert^2$ is strictly convex and can be minimized by setting its derivative to zero :\n",
    "\\begin{align*}g_u'(y) =0 &\\iff \\gamma +\\gamma \\log(\\gamma y) - \\gamma \\log(\\gamma)+ y = u \\\\ &\\iff  \\log(\\gamma y) + y/\\gamma = -1 + \\log(\\gamma)+ u/\\gamma \\\\ & \\iff \\gamma y e^{y/\\gamma} = e^{-1 + \\log(\\gamma)+ u/\\gamma}\n",
    "\\\\ & \\iff y = \\gamma W \\left( e^{-1 - \\log(\\gamma)+ u/\\gamma}\\right) \\end{align*}\n",
    "\n",
    "where $W$ is the Lambert function. Finally $\\text{prox}_{\\gamma\\varphi}(u)  =  \\gamma W \\left( e^{-1 - \\log(\\gamma)+ u/\\gamma}\\right)$. \n",
    "\n",
    "Let us finally compute the proximity operator of $\\gamma~ \\text{ent}$. We have $\\text{ent} = \\sum_{n=1}^N \\varphi_n$ where forall $n \\in [1, N]$, $\\varphi_n(x) = \\varphi(x_n) \\in \\Gamma_0$. Hence $$\\boxed{\\text{prox}_{\\text{ent}}(x) = \\left(\\gamma W \\left( e^{-1 - \\log(\\gamma)+ x_n/\\gamma}\\right)\\right)_{n\\in [1, N]}}$$"
   ]
  },
  {
   "cell_type": "markdown",
   "metadata": {},
   "source": [
    "### 4. Propose a forward-backward and a Douglas-Rachford algorithm to solve problem"
   ]
  },
  {
   "cell_type": "markdown",
   "metadata": {},
   "source": [
    "Let $f: x \\mapsto \\beta \\,\\text{ent}(x)\\in \\Gamma_0(\\mathbb{R}^N)$ and $g: x \\mapsto \\frac{1}{2}\\left\\lVert Kx - y \\right\\rVert ^2 \\in \\Gamma_0(\\mathbb{R}^N)$."
   ]
  },
  {
   "cell_type": "markdown",
   "metadata": {},
   "source": [
    "#### Foward-backward algorithm"
   ]
  },
  {
   "cell_type": "markdown",
   "metadata": {},
   "source": [
    "The Foward-backward algorithm is adapted to our problem since $f, g \\in \\Gamma_0$, $g$ is differentiable on $\\mathbb{R}^N$ and we know the proximity operator of $\\gamma f$:$$\\text{prox}_{\\gamma f}(x) = \\left(\\beta\\gamma W \\left( e^{-1 - \\log(\\beta\\gamma)+ \\frac{x_n}{(\\beta\\gamma)}}\\right)\\right)_{n\\in [1, N]}$$\n",
    "Let's set the parameters : \n",
    "\n",
    "* $\\nu$: Lipschitz constant of $\\nabla g$.\n",
    "We have $\\nabla g(x) = K^T(Kx-y)$, so the best $\\nu$ that can be chosen is $\\nu =\\Vert K^T K \\Vert_2 = \\rho (K^T K)$ where $\\rho$ is the spectral radius. It can be computed with the package `linalg`.\n",
    "\n",
    "* $\\gamma \\in [0, 2/\\nu]$ and $\\delta = 2 - \\gamma \\nu /2 \\in ]1, 2[$.\n",
    "* $\\lambda_n$ a sequence in $[0, \\delta]$. For simplicity we choose $\\lambda_n = 0.98\\times\\delta$ for all $n$.\n",
    "\n",
    "According to question 2, the condition $\\text{Argmin }~(f+g) \\neq \\emptyset$ is verified. \n"
   ]
  },
  {
   "cell_type": "markdown",
   "metadata": {},
   "source": [
    "#### Douglas-Rachford algorithm"
   ]
  },
  {
   "cell_type": "markdown",
   "metadata": {},
   "source": [
    "The Douglas-Rachford algorithm is also an adapted solution to our problem since we can compute both $f$ and $g$ proximity operators. Under the asumption that $\\gamma K^T K + Id$ is invertible (which stands for $\\gamma$ small enough), we have :\n",
    "$$\\text{prox}_{\\gamma g} (x) = \\left(\\gamma K^T K + Id \\right)^{-1} \\left( x + \\gamma K^T y \\right)$$\n",
    "$$\\text{prox}_{\\gamma f}(x) = \\left(\\beta\\gamma W \\left( e^{-1 - \\log(\\beta\\gamma)+ \\frac{x_n}{(\\beta\\gamma)}}\\right)\\right)_{n\\in [1, N]}$$\n",
    "\n",
    "We set $\\lambda_n  =1/2 $ for all $n \\in \\mathbb{N}$ and $\\gamma =1$.\n",
    "\n"
   ]
  },
  {
   "cell_type": "markdown",
   "metadata": {},
   "source": [
    "### 5. Implement them both and evaluate their performances for β = 10−2"
   ]
  },
  {
   "cell_type": "markdown",
   "metadata": {},
   "source": [
    "We first load the data and define the functions $\\nabla g$, $\\text{prox}_{\\gamma f}$, $\\text{prox}_{\\gamma g}$."
   ]
  },
  {
   "cell_type": "code",
   "execution_count": 405,
   "metadata": {},
   "outputs": [],
   "source": [
    "import numpy as np\n",
    "import matplotlib.pyplot as plt\n",
    "from numpy import exp#, log\n",
    "from math import log\n",
    "from scipy import linalg\n",
    "from scipy.special import lambertw\n",
    "from tqdm import tqdm\n",
    "\n",
    "T_MIN = 1\n",
    "T_MAX = 1000\n",
    "N = 200\n",
    "M = 50\n",
    "t_MIN = 0\n",
    "t_MAX = 1.5\n",
    "\n",
    "original_signal = np.loadtxt('x.txt')\n",
    "\n",
    "def T_sampling(n):\n",
    "    return T_MIN * exp(-(n-1)*(log(T_MIN/T_MAX)/(N-1)))\n",
    "\n",
    "T = T_sampling(np.arange(1, N+1))\n",
    "\n",
    "def t_sampling(m):\n",
    "    return t_MIN + (m-1)/(M-1) * (t_MAX - t_MIN)\n",
    "t = t_sampling(np.arange(1, M+1))\n",
    "\n",
    "K = exp(-np.tensordot(t, T, axes = 0))\n",
    "\n",
    "z = K @ original_signal\n",
    "sigma = 0.01 * z[0]\n",
    "I_M = np.identity(M)\n",
    "cov = sigma**2 * I_M\n",
    "mean = np.zeros(M)\n",
    "\n",
    "w = np.random.multivariate_normal(mean, cov)\n",
    "y = z + w\n",
    "\n",
    "K_SQUARE = K.T @ K\n",
    "KY = K.T @ y\n",
    "\n",
    "def relative_change(x, x_new):\n",
    "    return linalg.norm(x_new-x) / linalg.norm(x)\n",
    "\n",
    "X_BAR_SQUARE = np.dot(original_signal, original_signal)\n",
    "def normalized_quadratic_error(restored_signal):\n",
    "    x_hat_square = np.dot(restored_signal, restored_signal)\n",
    "    return (x_hat_square -2 * np.dot(original_signal, restored_signal) + X_BAR_SQUARE) / X_BAR_SQUARE\n",
    "\n",
    "MATRIX = K_SQUARE\n",
    "def grad_g(x):\n",
    "    '''return gradient of g'''\n",
    "    return MATRIX @ x - KY\n",
    "    \n",
    "\n",
    "def prox_f(gamma, x): # gamma = gamma*beta!\n",
    "    return gamma * np.real(lambertw(exp(x/gamma -1 - log(gamma))))\n",
    "\n",
    "ID = np.identity(N)\n",
    "def prox_g(gamma, x):\n",
    "    argmin = linalg.solve(gamma*K_SQUARE + ID, x+gamma*KY)\n",
    "    return argmin\n"
   ]
  },
  {
   "cell_type": "markdown",
   "metadata": {},
   "source": [
    "#### Foward-backward algorithm implementation"
   ]
  },
  {
   "cell_type": "code",
   "execution_count": 272,
   "metadata": {},
   "outputs": [],
   "source": [
    "Y_SQUARE = y @ y\n",
    "\n",
    "def prox(Chi, ksi):\n",
    "    \"\"\"Prox of Chi * norm_1(ksi). Note that ksi could be a vector.\"\"\"\n",
    "    return np.sign(ksi) * np.maximum(np.abs(ksi) - Chi, 0)\n",
    "\n",
    "def Foward_Backward(x_0, eps, beta):  \n",
    "\n",
    "    # Parameters\n",
    "    nu = np.max(np.abs(linalg.eigvals(MATRIX)))\n",
    "    gamma = (2 / nu) * 0.98\n",
    "    delta = 2 - gamma*nu/2\n",
    "    \n",
    "    def line_search(x, prox_y):\n",
    "        lamb_candidate = np.array([0.01, 0.05, 0.1, 0.2, 0.5, 1])\n",
    "        Lambda = lamb_candidate * 0.98 * gamma\n",
    "        Lambda = np.tile(Lambda, (N,1)).T\n",
    "        X = np.tile(x, (lamb_candidate.size, 1))\n",
    "        X_candidate = X + Lambda * (prox_y - x)\n",
    "        f_X_candidate = 1/2 * np.einsum('ij,ji->i', X_candidate @ K_SQUARE, X_candidate.T) \n",
    "        f_X_candidate -= X_candidate @ KY \n",
    "        f_X_candidate += 1/2*Y_SQUARE \n",
    "        f_X_candidate += beta/2 * linalg.norm(X_candidate, ord=1, axis=1) \n",
    "        minimum_x = X_candidate[np.argmin(f_X_candidate)]\n",
    "\n",
    "        return minimum_x\n",
    "\n",
    "    # Initialisation\n",
    "    x = x_0\n",
    "    stopping_criteria = 1\n",
    "    iteration = 0\n",
    "    MAX_ITER = 1e5\n",
    "    \n",
    "    \n",
    "    # Itération\n",
    "    while stopping_criteria > eps :\n",
    "        if iteration > MAX_ITER:\n",
    "            print('max iteration {} reached'.format(MAX_ITER))\n",
    "            return x\n",
    "        \n",
    "        iteration += 1\n",
    "        z = x-gamma*grad_g(x)\n",
    "        prox_z = prox_f(gamma * beta, z)\n",
    "        x_new = line_search(x, prox_z)\n",
    "        \n",
    "        #print(x)\n",
    "        stopping_criteria = relative_change(x, x_new)\n",
    "        x = x_new\n",
    "\n",
    "        #if iteration%100 == 0:\n",
    "            #print('iter = {}, err = {}, norme x = {}'.format(iteration,stopping_criteria,np.linalg.norm(x)))\n",
    "    \n",
    "    return x"
   ]
  },
  {
   "cell_type": "code",
   "execution_count": 273,
   "metadata": {},
   "outputs": [
    {
     "name": "stdout",
     "output_type": "stream",
     "text": [
      "error = 0.00050475 with Foward Backward Algorithm, β=0.02\n"
     ]
    },
    {
     "data": {
      "image/png": "[encoded data removed]",
      "text/plain": [
       "<Figure size 432x288 with 1 Axes>"
      ]
     },
     "metadata": {
      "needs_background": "light"
     },
     "output_type": "display_data"
    }
   ],
   "source": [
    "#beta = 1e-02\n",
    "beta =0.02\n",
    "x_0 = original_signal\n",
    "restored_signal_FB = Foward_Backward(x_0, 1e-6, beta)\n",
    "plt.plot(T, restored_signal_FB, 'b-', label='restored signal')\n",
    "plt.plot(T, original_signal, 'r-', label='original signal')\n",
    "plt.title('restored signal with foward backward, \\u03B2={}'.format(beta))\n",
    "plt.legend()\n",
    "plt.xscale('log')\n",
    "plt.xlabel('T')\n",
    "plt.ylabel('X(T)');\n",
    "\n",
    "error = normalized_quadratic_error(restored_signal_FB)\n",
    "print('error = {:9.8f} with Foward Backward Algorithm, \\u03B2={}'.format(error, beta))\n"
   ]
  },
  {
   "cell_type": "markdown",
   "metadata": {},
   "source": [
    "#### Douglas Rachford algorithm implementation"
   ]
  },
  {
   "cell_type": "code",
   "execution_count": 274,
   "metadata": {},
   "outputs": [],
   "source": [
    "def Douglas_Rachford(x_0, eps, beta):\n",
    "    \n",
    "    lamb = 1/2\n",
    "    gamma = 1\n",
    "    x = x_0\n",
    "    MAX_ITER = int(1e6)\n",
    "    \n",
    "#     breakpoint()\n",
    "    for _ in range(MAX_ITER):\n",
    "        z = prox_g(gamma, x)\n",
    "        w = prox_f(gamma*beta, 2*z-x)\n",
    "        x_next = x + lamb * (w - z)\n",
    "        change_rate = relative_change(x, x_next)\n",
    "        x = x_next\n",
    "        if change_rate < eps:\n",
    "            return x\n",
    "    return x\n",
    "            "
   ]
  },
  {
   "cell_type": "code",
   "execution_count": 275,
   "metadata": {},
   "outputs": [
    {
     "name": "stdout",
     "output_type": "stream",
     "text": [
      "error = 22.19194720 with Douglas Rachford Algorithm, β=0.01\n"
     ]
    },
    {
     "data": {
      "image/png": "[encoded data removed]",
      "text/plain": [
       "<Figure size 432x288 with 1 Axes>"
      ]
     },
     "metadata": {
      "needs_background": "light"
     },
     "output_type": "display_data"
    }
   ],
   "source": [
    "beta =0.01\n",
    "x_0 = original_signal\n",
    "restored_signal_DR = Douglas_Rachford(x_0, 1e-6, beta)\n",
    "plt.plot(T, restored_signal_DR, 'b-', label='restored signal')\n",
    "plt.plot(T, original_signal, 'r-', label='original signal')\n",
    "plt.title('restored signal with Douglas-Rachford , \\u03B2={} '.format(beta))\n",
    "plt.legend()\n",
    "plt.xscale('log')\n",
    "plt.xlabel('T')\n",
    "plt.ylabel('X(T)');\n",
    "\n",
    "error = normalized_quadratic_error(restored_signal_DR)\n",
    "print('error = {:9.8f} with Douglas Rachford Algorithm, \\u03B2={}'.format(error, beta))"
   ]
  },
  {
   "cell_type": "markdown",
   "metadata": {},
   "source": [
    "Le graph a l'air bizzare mais les autres ont obtunu aussi un truc comme ca, donc t'inquiete segolene\n",
    "\n",
    "le tqdm est pour voir le progres dans la boucle, tu peux l'enlever si tu ne l'aime pas."
   ]
  },
  {
   "cell_type": "markdown",
   "metadata": {},
   "source": [
    "### 6. Best choice for parameter β in terms of reconstruction error"
   ]
  },
  {
   "cell_type": "markdown",
   "metadata": {},
   "source": [
    "#### Foward-backward algorithm"
   ]
  },
  {
   "cell_type": "code",
   "execution_count": 278,
   "metadata": {},
   "outputs": [
    {
     "name": "stdout",
     "output_type": "stream",
     "text": [
      "max iteration 100000.0 reached\n",
      "max iteration 100000.0 reached\n",
      "max iteration 100000.0 reached\n",
      "max iteration 100000.0 reached\n",
      "max iteration 100000.0 reached\n",
      "max iteration 100000.0 reached\n",
      "max iteration 100000.0 reached\n",
      "max iteration 100000.0 reached\n",
      "max iteration 100000.0 reached\n"
     ]
    },
    {
     "data": {
      "image/png": "[encoded data removed]",
      "text/plain": [
       "<Figure size 432x288 with 1 Axes>"
      ]
     },
     "metadata": {
      "needs_background": "light"
     },
     "output_type": "display_data"
    }
   ],
   "source": [
    "def error_FB_beta(beta):\n",
    "    restored_signal = Foward_Backward(x_0, 1e-06, beta)\n",
    "    error_beta = normalized_quadratic_error(restored_signal)\n",
    "    return error_beta\n",
    "\n",
    "Beta = np.linspace(0.02, 10, 10)\n",
    "Error_FB = []\n",
    "for beta in Beta :\n",
    "    Error_FB.append(error_FB_beta(beta))\n",
    "\n",
    "plt.plot(Beta, Error_FB, 'o-', markersize=2)\n",
    "plt.xlabel('\\u03B2')\n",
    "plt.ylabel('error');\n",
    "\n",
    "min_index = np.argmin(Error_FB)\n",
    "minimum = Beta[min_index]\n",
    "min_val = Error_FB[min_index]\n",
    "\n",
    "plt.scatter(minimum, min_val, s= 60, c = 'red', label = 'minimum = {:5.4f} with value {:5.4f}'.format(minimum, min_val))\n",
    "plt.legend();"
   ]
  },
  {
   "cell_type": "markdown",
   "metadata": {},
   "source": [
    "#### Douglas Rachford algorithm"
   ]
  },
  {
   "cell_type": "code",
   "execution_count": 279,
   "metadata": {},
   "outputs": [
    {
     "data": {
      "image/png": "[encoded data removed]",
      "text/plain": [
       "<Figure size 432x288 with 1 Axes>"
      ]
     },
     "metadata": {
      "needs_background": "light"
     },
     "output_type": "display_data"
    }
   ],
   "source": [
    "def error_DR_beta(beta):\n",
    "    restored_signal = Douglas_Rachford(x_0, 1e-06, beta)\n",
    "    error_beta = normalized_quadratic_error(restored_signal)\n",
    "    return error_beta\n",
    "\n",
    "Beta = np.linspace(0.0001, 0.1, 1000)\n",
    "Error_DR = []\n",
    "for beta in Beta :\n",
    "    Error_DR.append(error_DR_beta(beta))\n",
    "\n",
    "plt.plot(Beta, Error_DR, 'o-', markersize=2)\n",
    "plt.xlabel('\\u03B2')\n",
    "plt.ylabel('error');\n",
    "\n",
    "min_index = np.argmin(Error_DR)\n",
    "minimum = Beta[min_index]\n",
    "min_val = Error_DR[min_index]\n",
    "\n",
    "plt.scatter(minimum, min_val, s= 60, c = 'red', label = 'minimum = {:5.4f} with value {:5.4f}'.format(minimum, min_val))\n",
    "plt.legend();"
   ]
  },
  {
   "cell_type": "markdown",
   "metadata": {},
   "source": [
    "For the best value $\\beta = 0.0003$, we plot the restored signal."
   ]
  },
  {
   "cell_type": "code",
   "execution_count": 289,
   "metadata": {},
   "outputs": [
    {
     "name": "stdout",
     "output_type": "stream",
     "text": [
      "error = 0.54506905 with Douglas Rachford Algorithm, β=0.0003\n"
     ]
    },
    {
     "data": {
      "image/png": "[encoded data removed]",
      "text/plain": [
       "<Figure size 432x288 with 1 Axes>"
      ]
     },
     "metadata": {
      "needs_background": "light"
     },
     "output_type": "display_data"
    }
   ],
   "source": [
    "beta = 0.0003\n",
    "x_0 = original_signal\n",
    "restored_signal_DR = Douglas_Rachford(x_0, 1e-6, beta)\n",
    "plt.plot(T, restored_signal_DR, 'b-', label='restored signal')\n",
    "plt.plot(T, original_signal, 'r-', label='original signal')\n",
    "plt.title('restored signal with Douglas-Rachford , \\u03B2={} '.format(beta))\n",
    "plt.legend()\n",
    "plt.xscale('log')\n",
    "plt.xlabel('T')\n",
    "plt.ylabel('X(T)');\n",
    "\n",
    "error = normalized_quadratic_error(restored_signal_DR)\n",
    "print('error = {:9.8f} with Douglas Rachford Algorithm, \\u03B2={}'.format(error, beta))"
   ]
  },
  {
   "cell_type": "markdown",
   "metadata": {},
   "source": [
    "### 7. Compare the maximum entropy regularization with the ones proposed in the previous part in terms of reconstruction quality"
   ]
  },
  {
   "cell_type": "markdown",
   "metadata": {},
   "source": [
    "Here we recap the errors obtained (with the best value of $\\beta$ we could find) with different reconstruction strategies :\n",
    "* Smoothness prior with solving linear system : error = 0.4927\n",
    "* Smoothness prior + constrainst with projected gradient method : error = 0.0768\n",
    "* Sparsity prior with Foward-Backward algorithm : error = 0.0024\n",
    "* Entropy regularization with Foward-Backward algorithm : error =  0.0005\n",
    "* Entropy regularization with Douglas-Rachford algorithm : error = 0.5450\n",
    "\n",
    "The best results are still achieved by the Entropy regularization with Foward-Backward algorithm."
   ]
  },
  {
   "cell_type": "markdown",
   "metadata": {},
   "source": [
    "### 8. Changing the problem"
   ]
  },
  {
   "cell_type": "markdown",
   "metadata": {},
   "source": [
    "We propose to use the PPXA+ method. Let : \n",
    "* $h_1(x) = \\text{ent}(x)$, $h_2(x) = \\iota_{C}$ where $C =\\bar{\\mathcal{B}}(y, \\sqrt{\\eta M}\\sigma)$ is a closed convex non empty set, and $h = h_1 +h_2$\n",
    "* $L_1 = I$ and $L_2 = K$. \n",
    "\n",
    "Then the problem $$\n",
    "\\begin{align}\n",
    "&\\text{minimize}  & \\text{ent}(x)&= \\sum_{i=1}^N \\phi(x_i) \\\\\n",
    "&\\text{subject to}  \n",
    "  &\\left\\| Kx-y \\right\\|^2 &\\leq \\eta M \\sigma^2 \n",
    "\\end{align}\n",
    "$$\n",
    "\n",
    "can be rewritten :\n",
    "$$\n",
    "\\begin{align}\n",
    "&\\text{minimize}  & h_1\\circ L_1(x) + h_2\\circ L_2(x) & \\\\\n",
    "& x \\in \\mathbb{R}^N  \n",
    "\\end{align}\n",
    "$$\n",
    "\n",
    "For the implementation, we will be needing : \n",
    "\\begin{align*}\\text{prox}_{\\gamma h_2} (x) &= P_C(x) \\\\\n",
    "&= \\left \\{ \\begin{array}{l} \\begin{array}{l l}\n",
    "\tx & \\text{if } \\Vert x- y \\Vert \\leq \\sqrt{\\eta M }\\sigma \\\\\n",
    "\ty + \\frac{x-y}{\\Vert x-y\\Vert} \\sqrt{\\eta M} \\sigma & \\text{ else }\n",
    "\\end{array} \\end{array} \\right. \\\\\n",
    "& = y + (x-y) \\min \\left(1, \\frac{ \\sqrt{\\eta M} \\sigma }{\\Vert x-y\\Vert} \\right)\n",
    "\\\\ \n",
    "\\text{prox}_{\\gamma h_1}(x) &= \\left(\\gamma W \\left( e^{-1 - \\log(\\gamma)+ \\frac{x_n}{(\\gamma)}}\\right)\\right)_{n\\in [1, N]}\\end{align*}\n",
    "\n",
    "We set $\\lambda_n  =1/2 $ for all $n \\in \\mathbb{N}$ and $\\gamma =1$."
   ]
  },
  {
   "cell_type": "markdown",
   "metadata": {},
   "source": [
    "#### Implementation "
   ]
  },
  {
   "cell_type": "code",
   "execution_count": 437,
   "metadata": {},
   "outputs": [],
   "source": [
    "def prox_h_1(gamma, x):\n",
    "    return gamma * np.real(lambertw(exp(x/gamma -1 - log(gamma))))\n",
    "def prox_h_2(eta, x): \n",
    "    return y + (x-y)*min(1.0, np.sqrt(eta*M)*sigma/(np.sqrt((x-y).dot(x-y))))\n",
    "    \n",
    "\n",
    "def PPXA(x_0, eps, eta):\n",
    "    \n",
    "    lamb = 1.5\n",
    "    gamma = 1\n",
    "    x_1 = x_0\n",
    "    x_2 = np.zeros(M)\n",
    "    MATRIX = K_SQUARE + np.eye(N)\n",
    "    v = linalg.solve(MATRIX,x_1+ K.T.dot(x_2))\n",
    "    \n",
    "    #MAX_ITER = int(1e6)\n",
    "    MAX_ITER = int(1e4)\n",
    "    for iteration in range(MAX_ITER):\n",
    "        z_1 = prox_h_1(gamma, x_1)\n",
    "        z_2 = prox_h_2(eta, x_2)\n",
    "        c = linalg.solve(MATRIX,z_1+ K.T.dot(z_2))\n",
    "        x_1 = x_1 + lamb*(2*c-v-z_1)\n",
    "        #print(x_1)\n",
    "        x_2 = x_2 + lamb*(K.dot(2*c-v)-z_2)\n",
    "        v_next = v + lamb*(c-v)\n",
    "        change_rate = relative_change(v, v_next)\n",
    "        v = v_next\n",
    "        \n",
    "        if change_rate < eps:\n",
    "            return v\n",
    "        if iteration%200 == 0:\n",
    "            print('iter = {}, err = {}'.format(iteration,change_rate))\n",
    "            print(np.sqrt(eta*M)*sigma/(np.sqrt((K.dot(v)-y).dot(K.dot(v)-y))))\n",
    "    return v"
   ]
  },
  {
   "cell_type": "code",
   "execution_count": 438,
   "metadata": {},
   "outputs": [
    {
     "name": "stdout",
     "output_type": "stream",
     "text": [
      "iter = 0, err = 1.770541735161469\n",
      "0.02232397642631513\n",
      "iter = 200, err = 0.0006200620720861494\n",
      "0.27870030792203354\n",
      "iter = 400, err = 0.0005448596915024642\n",
      "0.28487543896216105\n",
      "iter = 600, err = 0.0004143970957085811\n",
      "0.288660235557295\n",
      "iter = 800, err = 0.0003150377066264447\n",
      "0.2909560941565719\n",
      "iter = 1000, err = 0.0002481967397474886\n",
      "0.2924014393066674\n",
      "iter = 1200, err = 0.00020250582667344496\n",
      "0.29336351496901697\n",
      "iter = 1400, err = 0.00016985424252035297\n",
      "0.2940374430858981\n",
      "iter = 1600, err = 0.00014550230694053662\n",
      "0.2945296148150574\n",
      "iter = 1800, err = 0.0001266937554432678\n",
      "0.29490120157446664\n",
      "iter = 2000, err = 0.00011176039510653091\n",
      "0.2951893324062465\n",
      "iter = 2200, err = 9.964312547303406e-05\n",
      "0.2954176576514588\n",
      "iter = 2400, err = 8.963864816207968e-05\n",
      "0.29560187710388824\n",
      "iter = 2600, err = 8.126122908262145e-05\n",
      "0.29575278333096044\n",
      "iter = 2800, err = 7.416398244678495e-05\n",
      "0.2958780181617831\n",
      "iter = 3000, err = 6.809207672251076e-05\n",
      "0.29598313031441537\n",
      "iter = 3200, err = 6.285377456896789e-05\n",
      "0.2960722364635685\n",
      "iter = 3400, err = 5.8301847294616274e-05\n",
      "0.2961484482160085\n",
      "iter = 3600, err = 5.43212572006442e-05\n",
      "0.2962141559407149\n",
      "iter = 3800, err = 5.082075658326166e-05\n",
      "0.2962712222797581\n",
      "iter = 4000, err = 4.7727014530986913e-05\n",
      "0.2963211170608624\n",
      "iter = 4200, err = 4.498041809724984e-05\n",
      "0.2963650132370853\n",
      "iter = 4400, err = 4.2532011870355934e-05\n",
      "0.29640385632588595\n",
      "iter = 4600, err = 4.034122830736017e-05\n",
      "0.29643841546753413\n",
      "iter = 4800, err = 3.837417834049456e-05\n",
      "0.2964693215055049\n",
      "iter = 5000, err = 3.660234576028235e-05\n",
      "0.29649709575487326\n",
      "iter = 5200, err = 3.500157819764891e-05\n",
      "0.29652217199101266\n",
      "iter = 5400, err = 3.3551297135243505e-05\n",
      "0.2965449134363351\n",
      "iter = 5600, err = 3.223387469019741e-05\n",
      "0.2965656260116706\n",
      "iter = 5800, err = 3.1034135765404406e-05\n",
      "0.29658456876696154\n",
      "iter = 6000, err = 2.9938957762071356e-05\n",
      "0.2966019621600861\n",
      "iter = 6200, err = 2.893694607126643e-05\n",
      "0.29661799467844807\n",
      "iter = 6400, err = 2.801816837617894e-05\n",
      "0.29663282817305453\n",
      "iter = 6600, err = 2.7173936712786115e-05\n",
      "0.29664660218414673\n",
      "iter = 6800, err = 2.6396626530190585e-05\n",
      "0.29665943747094925\n",
      "iter = 7000, err = 2.5679526126008655e-05\n",
      "0.29667143890883474\n",
      "iter = 7200, err = 2.501671056934258e-05\n",
      "0.2966826978803363\n",
      "iter = 7400, err = 2.4402935527172407e-05\n",
      "0.29669329425864904\n",
      "iter = 7600, err = 2.3833547470223974e-05\n",
      "0.2967032980610976\n",
      "iter = 7800, err = 2.3304407305209236e-05\n",
      "0.2967127708338339\n",
      "iter = 8000, err = 2.2811825310156512e-05\n",
      "0.296721766816515\n",
      "iter = 8200, err = 2.235250524747593e-05\n",
      "0.296730333925967\n",
      "iter = 8400, err = 2.1923496727582982e-05\n",
      "0.29673851459022516\n",
      "iter = 8600, err = 2.152215334485362e-05\n",
      "0.2967463464583516\n",
      "iter = 8800, err = 2.114609745832934e-05\n",
      "0.296753863006672\n",
      "iter = 9000, err = 2.0793188826045646e-05\n",
      "0.29676109405829687\n",
      "iter = 9200, err = 2.0461497498393663e-05\n",
      "0.29676806622976815\n",
      "iter = 9400, err = 2.0149280700854155e-05\n",
      "0.29677480331623624\n",
      "iter = 9600, err = 1.985496172668205e-05\n",
      "0.2967813266245985\n",
      "iter = 9800, err = 1.957711215272527e-05\n",
      "0.29678765526245\n",
      "error = 0.17682886 with PPXA Algorithm, eta=0.1\n"
     ]
    },
    {
     "data": {
      "image/png": "[encoded data removed]",
      "text/plain": [
       "<Figure size 432x288 with 1 Axes>"
      ]
     },
     "metadata": {
      "needs_background": "light"
     },
     "output_type": "display_data"
    }
   ],
   "source": [
    "eta = 0.1\n",
    "x_0 = original_signal\n",
    "restored_signal_PPXA = PPXA(x_0, 1e-5, eta)\n",
    "plt.plot(T, restored_signal_PPXA, 'b-', label='restored signal')\n",
    "plt.plot(T, original_signal, 'r-', label='original signal')\n",
    "plt.title('restored signal with PPXA , eta={} '.format(eta))\n",
    "plt.legend()\n",
    "plt.xscale('log')\n",
    "plt.xlabel('T')\n",
    "plt.ylabel('X(T)');\n",
    "\n",
    "error = normalized_quadratic_error(restored_signal_PPXA)\n",
    "print('error = {:9.8f} with PPXA Algorithm, eta={}'.format(error, eta))"
   ]
  },
  {
   "cell_type": "markdown",
   "metadata": {},
   "source": [
    "Ca converge très lentement et de manière habituelle... bizarre. Peut-etre un problème avec la condition initiale ? je vois pas trop quoi prendre. Surtout ce qui est étrange c'est que le résultat n'est pas dans le convexe C !!"
   ]
  },
  {
   "cell_type": "markdown",
   "metadata": {},
   "source": [
    "#### Best value of $\\eta$"
   ]
  },
  {
   "cell_type": "code",
   "execution_count": null,
   "metadata": {},
   "outputs": [],
   "source": [
    "def error_PPXA_eta(eta):\n",
    "    restored_signal = PPXA(x_0, 1e-06, eta)\n",
    "    error_eta = normalized_quadratic_error(restored_signal)\n",
    "    return error_eta\n",
    "\n",
    "Eta = np.linspace(0.01, 1, 10)\n",
    "Error_PPXA = []\n",
    "for eta in Eta :\n",
    "    Error_PPXA.append(error_PPXA_eta(eta))\n",
    "\n",
    "plt.plot(Eta, Error_PPXA, 'o-', markersize=2)\n",
    "plt.xlabel('\\u03B2')\n",
    "plt.ylabel('error');\n",
    "\n",
    "min_index = np.argmin(Error_PPXA)\n",
    "minimum = Eta[min_index]\n",
    "min_val = Error_PPXA[min_index]\n",
    "\n",
    "plt.scatter(minimum, min_val, s= 60, c = 'red', label = 'minimum = {:5.4f} with value {:5.4f}'.format(minimum, min_val))\n",
    "plt.legend();"
   ]
  },
  {
   "cell_type": "markdown",
   "metadata": {},
   "source": [
    "#### Another method: Interior-point"
   ]
  },
  {
   "cell_type": "markdown",
   "metadata": {},
   "source": [
    "The problem is equivalent to:\n",
    "$$\n",
    "\\begin{align}\n",
    "&\\text{minimize}  & \\text{ent}(x)&= \\sum_{i=1}^N \\phi(x_i) \\\\\n",
    "&\\text{subject to}    & -x & \\preceq 0 \\\\\n",
    "&  &\\left\\| Kx-y \\right\\| -\\eta M \\sigma^2 &\\preceq 0\n",
    "\\end{align}\n",
    "$$"
   ]
  },
  {
   "cell_type": "markdown",
   "metadata": {},
   "source": [
    "The objective function is convex and the inequality contraints are all convex. The objective is twice differentiable in the interior of $\\{ -x \\preceq 0\\}$. So we can apply the **newton method with log-barrier**."
   ]
  },
  {
   "cell_type": "code",
   "execution_count": 6,
   "metadata": {},
   "outputs": [],
   "source": [
    "#Notations in the Convex Optimization of S.Boyd\n",
    "import math\n",
    "from functools import partial\n",
    "def mylog(x):\n",
    "    try:\n",
    "        return math.log(x)\n",
    "    except ValueError:\n",
    "        return -math.inf\n",
    "\n",
    "\n",
    "def line_search(f,\n",
    "                x: \"starting point in the feasible domain of f\",\n",
    "                Delta_x: \"descent direction\",\n",
    "                gradient_f_x: \"gradient of f at x\",\n",
    "                a: \"affinity of approximation\" = 0.25,\n",
    "                b: \"decreasing rate\" = 0.5\n",
    "    ) -> \"step size\":\n",
    "    \"\"\"Backtracking line search in the Convex Optimization of S.Boyd page 464.\"\"\"\n",
    "    t = 1\n",
    "    while f(x + t*Delta_x) > f(x) + a*t*gradient_f_x @ Delta_x:\n",
    "        t = b*t\n",
    "    return t\n",
    "\n",
    "def newton_method(\n",
    "        f: \"convex function to be minimized\",\n",
    "        x: \"starting point in the strictly feasible domain of f\",\n",
    "        e: \"tolerance, >0\",\n",
    "        gradient_f,\n",
    "        hessian_f,\n",
    "        a: \"line search parameter, affinity of approximation\" = 0.25,\n",
    "        b: \"line search parameter, decreasing rate\" = 0.5\n",
    "    ) -> \"argmin f\":\n",
    "    \"\"\"Newton's method in the page 487\"\"\"\n",
    "    while True:\n",
    "        Grad_f_x = gradient_f(x)\n",
    "        Hess_f_x = hessian_f(x)\n",
    "\n",
    "        newton_step = linalg.solve(Hess_f_x, Grad_f_x)\n",
    "#         Hess_f_x_inv = np.linalg.inv(hessian_f(x))\n",
    "        \n",
    "        decrement = Grad_f_x @ newton_step\n",
    "        if decrement/2 < e:\n",
    "            return x\n",
    "#         newton_step = -Hess_f_x_inv @ Grad_f_x\n",
    "        newton_direction = - newton_step\n",
    "\n",
    "        t = line_search(f, x, newton_direction, Grad_f_x, a, b)\n",
    "        x = x + t*newton_direction\n",
    "        \n",
    "def barrier_inegality(\n",
    "        f: \"Objective convex function to be minimized\",\n",
    "        g: \"Inequality constranits convex vectorized function\",\n",
    "        grad_f,\n",
    "        hess_f,\n",
    "        jac_g,\n",
    "        hess_g,\n",
    "        x:  \"strictly feasible starting point\",\n",
    "        e:  \"tolerance, >0\",\n",
    "        grad_f_s: \"list of gradients from f0 to fm\",\n",
    "        hess_f_s: \"list of hessians from f0 to fm\",\n",
    "        t:  \"t0 > 0\" = 1,\n",
    "        nu: \"> 1\" = 5\n",
    ") -> \"x* argmin with inequality constraints\":        "
   ]
  },
  {
   "cell_type": "code",
   "execution_count": null,
   "metadata": {},
   "outputs": [],
   "source": []
  }
 ],
 "metadata": {
  "kernelspec": {
   "display_name": "Python 3",
   "language": "python",
   "name": "python3"
  },
  "language_info": {
   "codemirror_mode": {
    "name": "ipython",
    "version": 3
   },
   "file_extension": ".py",
   "mimetype": "text/x-python",
   "name": "python",
   "nbconvert_exporter": "python",
   "pygments_lexer": "ipython3",
   "version": "3.7.4"
  }
 },
 "nbformat": 4,
 "nbformat_minor": 4
}
