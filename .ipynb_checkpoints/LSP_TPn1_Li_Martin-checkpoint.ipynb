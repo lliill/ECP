{
 "cells": [
  {
   "cell_type": "markdown",
   "metadata": {},
   "source": [
    "# TP1 Proximal Denoising"
   ]
  },
  {
   "cell_type": "markdown",
   "metadata": {},
   "source": [
    "* Authors: Mengda Li, Ségolène Martin"
   ]
  },
  {
   "cell_type": "markdown",
   "metadata": {},
   "source": [
    "## Question 1\n",
    "Show that this problem amounts to calculate the proximity operator of a\n",
    "function in $\\Gamma_0$."
   ]
  },
  {
   "cell_type": "markdown",
   "metadata": {},
   "source": [
    "**_Claim1.1_**: $f \\circ L \\in \\Gamma_0$\n",
    "\n"
   ]
  },
  {
   "cell_type": "markdown",
   "metadata": {},
   "source": [
    "**Proof**:\n",
    "> 1. Right composition of a convex function by an ffine function is still convex (Proposition 8.20). Since $f \\in \\Gamma_0$ and $L$ is linear (so affine), $f \\circ L$ is convex.\n",
    "2.  Right composition of a lower semicontinuous function by a continuous function is still lower semicontinuous (Lemma 1.28). Since $f$ is lower semicontinuous and $L$ is continuous (linear and the dimension of its set of departure is finite), $f \\circ L$ is lower semicontinuous.\n",
    "3. $f \\circ L$ is clearly proper."
   ]
  },
  {
   "cell_type": "markdown",
   "metadata": {},
   "source": [
    "As $f \\circ L \\in \\Gamma_0$, Prox$_{f\\circ L}: y \\ \\mapsto \\ \\underset{x}{\\arg\\min} f(Lx) + \\frac{1}{2} \\|x - y \\|^2$ is our goal of optimization problem."
   ]
  },
  {
   "cell_type": "code",
   "execution_count": null,
   "metadata": {},
   "outputs": [],
   "source": []
  }
 ],
 "metadata": {
  "kernelspec": {
   "display_name": "Python 3",
   "language": "python",
   "name": "python3"
  },
  "language_info": {
   "codemirror_mode": {
    "name": "ipython",
    "version": 3
   },
   "file_extension": ".py",
   "mimetype": "text/x-python",
   "name": "python",
   "nbconvert_exporter": "python",
   "pygments_lexer": "ipython3",
   "version": "3.7.4"
  }
 },
 "nbformat": 4,
 "nbformat_minor": 4
}
