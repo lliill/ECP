{
 "cells": [
  {
   "cell_type": "markdown",
   "metadata": {},
   "source": [
    "# TP2 Reconstruction of DOSY NMR signals - Part I"
   ]
  },
  {
   "cell_type": "markdown",
   "metadata": {},
   "source": [
    "* Authors: Mengda Li, Ségolène Martin"
   ]
  },
  {
   "cell_type": "markdown",
   "metadata": {},
   "source": [
    "## 1 Introduction\n"
   ]
  },
  {
   "cell_type": "markdown",
   "metadata": {},
   "source": [
    "Our goal of optimization: find \n",
    "\n",
    "$$ \\bar{x} = \\underset{x \\in \\mathbb{R}^n}{\\arg\\min}\n",
    "\\frac{1}{2} \\left\\lVert Kx - y \\right\\rVert ^2 + \\beta g(x)$$\n",
    "\n",
    "where $g \\in \\Gamma_0(\\mathbb{R}^n)$ denotes a regularization term and $\\beta ≥ 0$."
   ]
  },
  {
   "cell_type": "markdown",
   "metadata": {},
   "source": [
    "## 2 Generation of synthetic data"
   ]
  },
  {
   "cell_type": "code",
   "execution_count": 1,
   "metadata": {},
   "outputs": [],
   "source": [
    "import numpy as np\n",
    "import matplotlib.pyplot as plt\n",
    "from numpy import exp, log\n",
    "T_MIN = 1\n",
    "T_MAX = 1000\n",
    "N = 200\n",
    "M = 50\n",
    "t_MIN = 0\n",
    "t_MAX = 1.5"
   ]
  },
  {
   "cell_type": "markdown",
   "metadata": {},
   "source": [
    "1. Download on the website the diffusion signal  $\\bar{x}$"
   ]
  },
  {
   "cell_type": "code",
   "execution_count": 2,
   "metadata": {},
   "outputs": [],
   "source": [
    "original_signal = np.loadtxt('x.txt')"
   ]
  },
  {
   "cell_type": "markdown",
   "metadata": {},
   "source": [
    "2. Create $T$ using an exponential sampling strategy"
   ]
  },
  {
   "cell_type": "code",
   "execution_count": 3,
   "metadata": {},
   "outputs": [],
   "source": [
    "def T_sampling(n):\n",
    "    return T_MIN * exp(-(n-1)*(log(T_MIN/T_MAX)/(N-1)))\n",
    "\n",
    "T = T_sampling(np.arange(N))"
   ]
  },
  {
   "cell_type": "markdown",
   "metadata": {},
   "source": [
    "3. Display the original signal $\\bar{x}$ as a function of $T$ (use log scale on the horizontal axis)."
   ]
  },
  {
   "cell_type": "code",
   "execution_count": 4,
   "metadata": {},
   "outputs": [
    {
     "data": {
      "image/png": "[encoded data removed]",
      "text/plain": [
       "<Figure size 432x288 with 1 Axes>"
      ]
     },
     "metadata": {
      "needs_background": "light"
     },
     "output_type": "display_data"
    }
   ],
   "source": [
    "plt.plot(T, original_signal)\n",
    "plt.xscale('log')\n",
    "plt.xlabel('T')\n",
    "plt.ylabel('X(T)');"
   ]
  },
  {
   "cell_type": "markdown",
   "metadata": {},
   "source": [
    "4. Create $t$ using a regular sampling strategy"
   ]
  },
  {
   "cell_type": "code",
   "execution_count": 5,
   "metadata": {},
   "outputs": [],
   "source": [
    "def t_sampling(m):\n",
    "    return t_MIN + (m-1)/(M-1) * (t_MAX - t_MIN)\n",
    "t = t_sampling(np.arange(M))"
   ]
  },
  {
   "cell_type": "markdown",
   "metadata": {},
   "source": [
    "5. Construct matrix $K$"
   ]
  },
  {
   "cell_type": "code",
   "execution_count": 6,
   "metadata": {},
   "outputs": [],
   "source": [
    "K = exp(-np.tensordot(T, t, axes = 0)).T"
   ]
  },
  {
   "cell_type": "markdown",
   "metadata": {},
   "source": [
    "6. Simulate the noisy data $y = K \\bar{x} + w$"
   ]
  },
  {
   "cell_type": "code",
   "execution_count": 7,
   "metadata": {},
   "outputs": [],
   "source": [
    "z = K @ original_signal\n",
    "sigma = 0.01 * z[0]\n",
    "I_M = np.identity(M)\n",
    "cov = sigma**2 * I_M\n",
    "mean = np.zeros(M)\n",
    "\n",
    "w = np.random.multivariate_normal(mean, cov)\n",
    "y = z + w"
   ]
  },
  {
   "cell_type": "markdown",
   "metadata": {},
   "source": [
    "7. Display the resulting noisy data $y$ as a function of $t$."
   ]
  },
  {
   "cell_type": "code",
   "execution_count": 8,
   "metadata": {},
   "outputs": [
    {
     "data": {
      "image/png": "[encoded data removed]",
      "text/plain": [
       "<Figure size 432x288 with 1 Axes>"
      ]
     },
     "metadata": {
      "needs_background": "light"
     },
     "output_type": "display_data"
    }
   ],
   "source": [
    "plt.plot(t, y)\n",
    "plt.ylabel(\"y\")\n",
    "plt.xlabel('t');"
   ]
  },
  {
   "cell_type": "markdown",
   "metadata": {},
   "source": [
    "## 3 Comparison of regularization strategies"
   ]
  },
  {
   "cell_type": "markdown",
   "metadata": {},
   "source": [
    "* ###  case 1: **Smoothness prior**\n",
    "\n",
    "$$g(x) = \\frac{1}{2} \\lVert Dx \\rVert^2$$\n",
    "\n",
    "with $D = \n",
    "\\begin{pmatrix}\n",
    "    1       & 0 & 0 & \\dots & -1 \\\\\n",
    "    -1      & 1 & 0 & \\dots & 0 \\\\\n",
    "    \\vdots & \\ddots & \\ddots \\\\\n",
    "    0       & 0 & \\dots &  -1 &1\n",
    "\\end{pmatrix} \\in \\mathbb{R}^{N \\times N}$"
   ]
  },
  {
   "cell_type": "markdown",
   "metadata": {},
   "source": [
    "We want to minimize the function \n",
    "\n",
    "\\begin{align}\n",
    "f(x) &= \\frac{1}{2} \\left\\lVert Kx - y \\right\\rVert ^2 + \n",
    "\\beta \\frac{1}{2} \\lVert Dx \\rVert^2 \\\\\n",
    "    & =\\frac{1}{2} x^T(K^T K + \\beta D^T D) x - y^T K x + \\frac{1}{2}\\|y\\|^2\n",
    "\\end{align}"
   ]
  },
  {
   "cell_type": "markdown",
   "metadata": {},
   "source": [
    "with $$\\nabla f(x) = (K^T K + \\beta D^T D) x - K^T y$$"
   ]
  },
  {
   "cell_type": "markdown",
   "metadata": {},
   "source": [
    "#### 1. Discuss the existence and uniqueness of a solution to the problem."
   ]
  },
  {
   "cell_type": "markdown",
   "metadata": {},
   "source": [
    "So the problem is a **quadratic minimization problem**.\n",
    "* if $(K^T K + \\beta D^T D) \\succ 0$, then there is a unique solution, \n",
    "$$\\bar{x} =(K^T K + \\beta D^T D)^{-1} K^T y $$"
   ]
  },
  {
   "cell_type": "markdown",
   "metadata": {},
   "source": [
    "* In the more general case when $K^T K + \\beta D^T D$ is not positive definite, any solution of $(K^T K + \\beta D^T D) \\bar{x} = K^T y$ is optimal"
   ]
  },
  {
   "cell_type": "markdown",
   "metadata": {},
   "source": [
    "* If $(K^T K + \\beta D^T D) \\bar{x} = K^T y$ does not have a solution, then the problem is unbounded below."
   ]
  },
  {
   "cell_type": "markdown",
   "metadata": {},
   "source": [
    "#### 2. Propose an approach to solve problem\n",
    "\n",
    "The key is to solve the linear system\n",
    "$$(K^T K + \\beta D^T D) \\bar{x} = K^T y \\tag{*}$$\n",
    "&nbsp; &nbsp;&nbsp;&nbsp;if there is a solution $\\bar{x}$ for $(*)$, then it is the optimum. \n",
    "\n",
    "We can use `scipy.linalg.solve` to solve this system numerically."
   ]
  },
  {
   "cell_type": "markdown",
   "metadata": {},
   "source": [
    "#### 3. Implement it, and display the restored signal $\\bar{x}$"
   ]
  },
  {
   "cell_type": "code",
   "execution_count": 2,
   "metadata": {},
   "outputs": [],
   "source": [
    "# to do: code the matrix D and 3.4.5\n"
   ]
  },
  {
   "cell_type": "code",
   "execution_count": null,
   "metadata": {},
   "outputs": [],
   "source": []
  }
 ],
 "metadata": {
  "kernelspec": {
   "display_name": "Python 3",
   "language": "python",
   "name": "python3"
  },
  "language_info": {
   "codemirror_mode": {
    "name": "ipython",
    "version": 3
   },
   "file_extension": ".py",
   "mimetype": "text/x-python",
   "name": "python",
   "nbconvert_exporter": "python",
   "pygments_lexer": "ipython3",
   "version": "3.7.4"
  }
 },
 "nbformat": 4,
 "nbformat_minor": 4
}
